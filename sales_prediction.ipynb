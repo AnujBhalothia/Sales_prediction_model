{
 "cells": [
  {
   "cell_type": "code",
   "execution_count": 1,
   "metadata": {},
   "outputs": [],
   "source": [
    "import pandas as pd\n",
    "import numpy as np\n",
    "import matplotlib.pyplot as plt\n",
    "import seaborn as sns"
   ]
  },
  {
   "cell_type": "code",
   "execution_count": 2,
   "metadata": {},
   "outputs": [],
   "source": [
    "df_train  = pd.read_csv(r'C:\\Users\\shubham\\Desktop\\JS\\train.csv')\n",
    "df_test  = pd.read_csv(r'C:\\Users\\shubham\\Desktop\\JS\\test.csv')"
   ]
  },
  {
   "cell_type": "code",
   "execution_count": 3,
   "metadata": {},
   "outputs": [
    {
     "data": {
      "text/html": [
       "<div>\n",
       "<style scoped>\n",
       "    .dataframe tbody tr th:only-of-type {\n",
       "        vertical-align: middle;\n",
       "    }\n",
       "\n",
       "    .dataframe tbody tr th {\n",
       "        vertical-align: top;\n",
       "    }\n",
       "\n",
       "    .dataframe thead th {\n",
       "        text-align: right;\n",
       "    }\n",
       "</style>\n",
       "<table border=\"1\" class=\"dataframe\">\n",
       "  <thead>\n",
       "    <tr style=\"text-align: right;\">\n",
       "      <th></th>\n",
       "      <th>Item_Identifier</th>\n",
       "      <th>Item_Weight</th>\n",
       "      <th>Item_Fat_Content</th>\n",
       "      <th>Item_Visibility</th>\n",
       "      <th>Item_Type</th>\n",
       "      <th>Item_MRP</th>\n",
       "      <th>Outlet_Identifier</th>\n",
       "      <th>Outlet_Establishment_Year</th>\n",
       "      <th>Outlet_Size</th>\n",
       "      <th>Outlet_Location_Type</th>\n",
       "      <th>Outlet_Type</th>\n",
       "    </tr>\n",
       "  </thead>\n",
       "  <tbody>\n",
       "    <tr>\n",
       "      <th>0</th>\n",
       "      <td>FDW58</td>\n",
       "      <td>20.750</td>\n",
       "      <td>Low Fat</td>\n",
       "      <td>0.007565</td>\n",
       "      <td>Snack Foods</td>\n",
       "      <td>107.8622</td>\n",
       "      <td>OUT049</td>\n",
       "      <td>1999</td>\n",
       "      <td>Medium</td>\n",
       "      <td>Tier 1</td>\n",
       "      <td>Supermarket Type1</td>\n",
       "    </tr>\n",
       "    <tr>\n",
       "      <th>1</th>\n",
       "      <td>FDW14</td>\n",
       "      <td>8.300</td>\n",
       "      <td>reg</td>\n",
       "      <td>0.038428</td>\n",
       "      <td>Dairy</td>\n",
       "      <td>87.3198</td>\n",
       "      <td>OUT017</td>\n",
       "      <td>2007</td>\n",
       "      <td>NaN</td>\n",
       "      <td>Tier 2</td>\n",
       "      <td>Supermarket Type1</td>\n",
       "    </tr>\n",
       "    <tr>\n",
       "      <th>2</th>\n",
       "      <td>NCN55</td>\n",
       "      <td>14.600</td>\n",
       "      <td>Low Fat</td>\n",
       "      <td>0.099575</td>\n",
       "      <td>Others</td>\n",
       "      <td>241.7538</td>\n",
       "      <td>OUT010</td>\n",
       "      <td>1998</td>\n",
       "      <td>NaN</td>\n",
       "      <td>Tier 3</td>\n",
       "      <td>Grocery Store</td>\n",
       "    </tr>\n",
       "    <tr>\n",
       "      <th>3</th>\n",
       "      <td>FDQ58</td>\n",
       "      <td>7.315</td>\n",
       "      <td>Low Fat</td>\n",
       "      <td>0.015388</td>\n",
       "      <td>Snack Foods</td>\n",
       "      <td>155.0340</td>\n",
       "      <td>OUT017</td>\n",
       "      <td>2007</td>\n",
       "      <td>NaN</td>\n",
       "      <td>Tier 2</td>\n",
       "      <td>Supermarket Type1</td>\n",
       "    </tr>\n",
       "    <tr>\n",
       "      <th>4</th>\n",
       "      <td>FDY38</td>\n",
       "      <td>NaN</td>\n",
       "      <td>Regular</td>\n",
       "      <td>0.118599</td>\n",
       "      <td>Dairy</td>\n",
       "      <td>234.2300</td>\n",
       "      <td>OUT027</td>\n",
       "      <td>1985</td>\n",
       "      <td>Medium</td>\n",
       "      <td>Tier 3</td>\n",
       "      <td>Supermarket Type3</td>\n",
       "    </tr>\n",
       "    <tr>\n",
       "      <th>...</th>\n",
       "      <td>...</td>\n",
       "      <td>...</td>\n",
       "      <td>...</td>\n",
       "      <td>...</td>\n",
       "      <td>...</td>\n",
       "      <td>...</td>\n",
       "      <td>...</td>\n",
       "      <td>...</td>\n",
       "      <td>...</td>\n",
       "      <td>...</td>\n",
       "      <td>...</td>\n",
       "    </tr>\n",
       "    <tr>\n",
       "      <th>5676</th>\n",
       "      <td>FDB58</td>\n",
       "      <td>10.500</td>\n",
       "      <td>Regular</td>\n",
       "      <td>0.013496</td>\n",
       "      <td>Snack Foods</td>\n",
       "      <td>141.3154</td>\n",
       "      <td>OUT046</td>\n",
       "      <td>1997</td>\n",
       "      <td>Small</td>\n",
       "      <td>Tier 1</td>\n",
       "      <td>Supermarket Type1</td>\n",
       "    </tr>\n",
       "    <tr>\n",
       "      <th>5677</th>\n",
       "      <td>FDD47</td>\n",
       "      <td>7.600</td>\n",
       "      <td>Regular</td>\n",
       "      <td>0.142991</td>\n",
       "      <td>Starchy Foods</td>\n",
       "      <td>169.1448</td>\n",
       "      <td>OUT018</td>\n",
       "      <td>2009</td>\n",
       "      <td>Medium</td>\n",
       "      <td>Tier 3</td>\n",
       "      <td>Supermarket Type2</td>\n",
       "    </tr>\n",
       "    <tr>\n",
       "      <th>5678</th>\n",
       "      <td>NCO17</td>\n",
       "      <td>10.000</td>\n",
       "      <td>Low Fat</td>\n",
       "      <td>0.073529</td>\n",
       "      <td>Health and Hygiene</td>\n",
       "      <td>118.7440</td>\n",
       "      <td>OUT045</td>\n",
       "      <td>2002</td>\n",
       "      <td>NaN</td>\n",
       "      <td>Tier 2</td>\n",
       "      <td>Supermarket Type1</td>\n",
       "    </tr>\n",
       "    <tr>\n",
       "      <th>5679</th>\n",
       "      <td>FDJ26</td>\n",
       "      <td>15.300</td>\n",
       "      <td>Regular</td>\n",
       "      <td>0.000000</td>\n",
       "      <td>Canned</td>\n",
       "      <td>214.6218</td>\n",
       "      <td>OUT017</td>\n",
       "      <td>2007</td>\n",
       "      <td>NaN</td>\n",
       "      <td>Tier 2</td>\n",
       "      <td>Supermarket Type1</td>\n",
       "    </tr>\n",
       "    <tr>\n",
       "      <th>5680</th>\n",
       "      <td>FDU37</td>\n",
       "      <td>9.500</td>\n",
       "      <td>Regular</td>\n",
       "      <td>0.104720</td>\n",
       "      <td>Canned</td>\n",
       "      <td>79.7960</td>\n",
       "      <td>OUT045</td>\n",
       "      <td>2002</td>\n",
       "      <td>NaN</td>\n",
       "      <td>Tier 2</td>\n",
       "      <td>Supermarket Type1</td>\n",
       "    </tr>\n",
       "  </tbody>\n",
       "</table>\n",
       "<p>5681 rows × 11 columns</p>\n",
       "</div>"
      ],
      "text/plain": [
       "     Item_Identifier  Item_Weight Item_Fat_Content  Item_Visibility   \n",
       "0              FDW58       20.750          Low Fat         0.007565  \\\n",
       "1              FDW14        8.300              reg         0.038428   \n",
       "2              NCN55       14.600          Low Fat         0.099575   \n",
       "3              FDQ58        7.315          Low Fat         0.015388   \n",
       "4              FDY38          NaN          Regular         0.118599   \n",
       "...              ...          ...              ...              ...   \n",
       "5676           FDB58       10.500          Regular         0.013496   \n",
       "5677           FDD47        7.600          Regular         0.142991   \n",
       "5678           NCO17       10.000          Low Fat         0.073529   \n",
       "5679           FDJ26       15.300          Regular         0.000000   \n",
       "5680           FDU37        9.500          Regular         0.104720   \n",
       "\n",
       "               Item_Type  Item_MRP Outlet_Identifier   \n",
       "0            Snack Foods  107.8622            OUT049  \\\n",
       "1                  Dairy   87.3198            OUT017   \n",
       "2                 Others  241.7538            OUT010   \n",
       "3            Snack Foods  155.0340            OUT017   \n",
       "4                  Dairy  234.2300            OUT027   \n",
       "...                  ...       ...               ...   \n",
       "5676         Snack Foods  141.3154            OUT046   \n",
       "5677       Starchy Foods  169.1448            OUT018   \n",
       "5678  Health and Hygiene  118.7440            OUT045   \n",
       "5679              Canned  214.6218            OUT017   \n",
       "5680              Canned   79.7960            OUT045   \n",
       "\n",
       "      Outlet_Establishment_Year Outlet_Size Outlet_Location_Type   \n",
       "0                          1999      Medium               Tier 1  \\\n",
       "1                          2007         NaN               Tier 2   \n",
       "2                          1998         NaN               Tier 3   \n",
       "3                          2007         NaN               Tier 2   \n",
       "4                          1985      Medium               Tier 3   \n",
       "...                         ...         ...                  ...   \n",
       "5676                       1997       Small               Tier 1   \n",
       "5677                       2009      Medium               Tier 3   \n",
       "5678                       2002         NaN               Tier 2   \n",
       "5679                       2007         NaN               Tier 2   \n",
       "5680                       2002         NaN               Tier 2   \n",
       "\n",
       "            Outlet_Type  \n",
       "0     Supermarket Type1  \n",
       "1     Supermarket Type1  \n",
       "2         Grocery Store  \n",
       "3     Supermarket Type1  \n",
       "4     Supermarket Type3  \n",
       "...                 ...  \n",
       "5676  Supermarket Type1  \n",
       "5677  Supermarket Type2  \n",
       "5678  Supermarket Type1  \n",
       "5679  Supermarket Type1  \n",
       "5680  Supermarket Type1  \n",
       "\n",
       "[5681 rows x 11 columns]"
      ]
     },
     "execution_count": 3,
     "metadata": {},
     "output_type": "execute_result"
    }
   ],
   "source": [
    "df_test"
   ]
  },
  {
   "cell_type": "code",
   "execution_count": 4,
   "metadata": {},
   "outputs": [
    {
     "data": {
      "text/html": [
       "<div>\n",
       "<style scoped>\n",
       "    .dataframe tbody tr th:only-of-type {\n",
       "        vertical-align: middle;\n",
       "    }\n",
       "\n",
       "    .dataframe tbody tr th {\n",
       "        vertical-align: top;\n",
       "    }\n",
       "\n",
       "    .dataframe thead th {\n",
       "        text-align: right;\n",
       "    }\n",
       "</style>\n",
       "<table border=\"1\" class=\"dataframe\">\n",
       "  <thead>\n",
       "    <tr style=\"text-align: right;\">\n",
       "      <th></th>\n",
       "      <th>Item_Identifier</th>\n",
       "      <th>Item_Weight</th>\n",
       "      <th>Item_Fat_Content</th>\n",
       "      <th>Item_Visibility</th>\n",
       "      <th>Item_Type</th>\n",
       "      <th>Item_MRP</th>\n",
       "      <th>Outlet_Identifier</th>\n",
       "      <th>Outlet_Establishment_Year</th>\n",
       "      <th>Outlet_Size</th>\n",
       "      <th>Outlet_Location_Type</th>\n",
       "      <th>Outlet_Type</th>\n",
       "      <th>Item_Outlet_Sales</th>\n",
       "    </tr>\n",
       "  </thead>\n",
       "  <tbody>\n",
       "    <tr>\n",
       "      <th>0</th>\n",
       "      <td>FDA15</td>\n",
       "      <td>9.30</td>\n",
       "      <td>Low Fat</td>\n",
       "      <td>0.016047</td>\n",
       "      <td>Dairy</td>\n",
       "      <td>249.8092</td>\n",
       "      <td>OUT049</td>\n",
       "      <td>1999</td>\n",
       "      <td>Medium</td>\n",
       "      <td>Tier 1</td>\n",
       "      <td>Supermarket Type1</td>\n",
       "      <td>3735.1380</td>\n",
       "    </tr>\n",
       "    <tr>\n",
       "      <th>1</th>\n",
       "      <td>DRC01</td>\n",
       "      <td>5.92</td>\n",
       "      <td>Regular</td>\n",
       "      <td>0.019278</td>\n",
       "      <td>Soft Drinks</td>\n",
       "      <td>48.2692</td>\n",
       "      <td>OUT018</td>\n",
       "      <td>2009</td>\n",
       "      <td>Medium</td>\n",
       "      <td>Tier 3</td>\n",
       "      <td>Supermarket Type2</td>\n",
       "      <td>443.4228</td>\n",
       "    </tr>\n",
       "    <tr>\n",
       "      <th>2</th>\n",
       "      <td>FDN15</td>\n",
       "      <td>17.50</td>\n",
       "      <td>Low Fat</td>\n",
       "      <td>0.016760</td>\n",
       "      <td>Meat</td>\n",
       "      <td>141.6180</td>\n",
       "      <td>OUT049</td>\n",
       "      <td>1999</td>\n",
       "      <td>Medium</td>\n",
       "      <td>Tier 1</td>\n",
       "      <td>Supermarket Type1</td>\n",
       "      <td>2097.2700</td>\n",
       "    </tr>\n",
       "    <tr>\n",
       "      <th>3</th>\n",
       "      <td>FDX07</td>\n",
       "      <td>19.20</td>\n",
       "      <td>Regular</td>\n",
       "      <td>0.000000</td>\n",
       "      <td>Fruits and Vegetables</td>\n",
       "      <td>182.0950</td>\n",
       "      <td>OUT010</td>\n",
       "      <td>1998</td>\n",
       "      <td>NaN</td>\n",
       "      <td>Tier 3</td>\n",
       "      <td>Grocery Store</td>\n",
       "      <td>732.3800</td>\n",
       "    </tr>\n",
       "    <tr>\n",
       "      <th>4</th>\n",
       "      <td>NCD19</td>\n",
       "      <td>8.93</td>\n",
       "      <td>Low Fat</td>\n",
       "      <td>0.000000</td>\n",
       "      <td>Household</td>\n",
       "      <td>53.8614</td>\n",
       "      <td>OUT013</td>\n",
       "      <td>1987</td>\n",
       "      <td>High</td>\n",
       "      <td>Tier 3</td>\n",
       "      <td>Supermarket Type1</td>\n",
       "      <td>994.7052</td>\n",
       "    </tr>\n",
       "  </tbody>\n",
       "</table>\n",
       "</div>"
      ],
      "text/plain": [
       "  Item_Identifier  Item_Weight Item_Fat_Content  Item_Visibility   \n",
       "0           FDA15         9.30          Low Fat         0.016047  \\\n",
       "1           DRC01         5.92          Regular         0.019278   \n",
       "2           FDN15        17.50          Low Fat         0.016760   \n",
       "3           FDX07        19.20          Regular         0.000000   \n",
       "4           NCD19         8.93          Low Fat         0.000000   \n",
       "\n",
       "               Item_Type  Item_MRP Outlet_Identifier   \n",
       "0                  Dairy  249.8092            OUT049  \\\n",
       "1            Soft Drinks   48.2692            OUT018   \n",
       "2                   Meat  141.6180            OUT049   \n",
       "3  Fruits and Vegetables  182.0950            OUT010   \n",
       "4              Household   53.8614            OUT013   \n",
       "\n",
       "   Outlet_Establishment_Year Outlet_Size Outlet_Location_Type   \n",
       "0                       1999      Medium               Tier 1  \\\n",
       "1                       2009      Medium               Tier 3   \n",
       "2                       1999      Medium               Tier 1   \n",
       "3                       1998         NaN               Tier 3   \n",
       "4                       1987        High               Tier 3   \n",
       "\n",
       "         Outlet_Type  Item_Outlet_Sales  \n",
       "0  Supermarket Type1          3735.1380  \n",
       "1  Supermarket Type2           443.4228  \n",
       "2  Supermarket Type1          2097.2700  \n",
       "3      Grocery Store           732.3800  \n",
       "4  Supermarket Type1           994.7052  "
      ]
     },
     "execution_count": 4,
     "metadata": {},
     "output_type": "execute_result"
    }
   ],
   "source": [
    "df_train.head()"
   ]
  },
  {
   "cell_type": "code",
   "execution_count": 5,
   "metadata": {},
   "outputs": [
    {
     "data": {
      "text/plain": [
       "Item_Identifier                 0\n",
       "Item_Weight                  1463\n",
       "Item_Fat_Content                0\n",
       "Item_Visibility                 0\n",
       "Item_Type                       0\n",
       "Item_MRP                        0\n",
       "Outlet_Identifier               0\n",
       "Outlet_Establishment_Year       0\n",
       "Outlet_Size                  2410\n",
       "Outlet_Location_Type            0\n",
       "Outlet_Type                     0\n",
       "Item_Outlet_Sales               0\n",
       "dtype: int64"
      ]
     },
     "execution_count": 5,
     "metadata": {},
     "output_type": "execute_result"
    }
   ],
   "source": [
    "#check for null or missing values\n",
    "df_train.isnull().sum()"
   ]
  },
  {
   "cell_type": "code",
   "execution_count": 6,
   "metadata": {},
   "outputs": [
    {
     "data": {
      "text/plain": [
       "Item_Identifier                 0\n",
       "Item_Weight                   976\n",
       "Item_Fat_Content                0\n",
       "Item_Visibility                 0\n",
       "Item_Type                       0\n",
       "Item_MRP                        0\n",
       "Outlet_Identifier               0\n",
       "Outlet_Establishment_Year       0\n",
       "Outlet_Size                  1606\n",
       "Outlet_Location_Type            0\n",
       "Outlet_Type                     0\n",
       "dtype: int64"
      ]
     },
     "execution_count": 6,
     "metadata": {},
     "output_type": "execute_result"
    }
   ],
   "source": [
    "df_test.isnull().sum()"
   ]
  },
  {
   "cell_type": "code",
   "execution_count": 7,
   "metadata": {},
   "outputs": [
    {
     "name": "stdout",
     "output_type": "stream",
     "text": [
      "<class 'pandas.core.frame.DataFrame'>\n",
      "RangeIndex: 8523 entries, 0 to 8522\n",
      "Data columns (total 12 columns):\n",
      " #   Column                     Non-Null Count  Dtype  \n",
      "---  ------                     --------------  -----  \n",
      " 0   Item_Identifier            8523 non-null   object \n",
      " 1   Item_Weight                7060 non-null   float64\n",
      " 2   Item_Fat_Content           8523 non-null   object \n",
      " 3   Item_Visibility            8523 non-null   float64\n",
      " 4   Item_Type                  8523 non-null   object \n",
      " 5   Item_MRP                   8523 non-null   float64\n",
      " 6   Outlet_Identifier          8523 non-null   object \n",
      " 7   Outlet_Establishment_Year  8523 non-null   int64  \n",
      " 8   Outlet_Size                6113 non-null   object \n",
      " 9   Outlet_Location_Type       8523 non-null   object \n",
      " 10  Outlet_Type                8523 non-null   object \n",
      " 11  Item_Outlet_Sales          8523 non-null   float64\n",
      "dtypes: float64(4), int64(1), object(7)\n",
      "memory usage: 799.2+ KB\n"
     ]
    }
   ],
   "source": [
    "df_train.info()"
   ]
  },
  {
   "cell_type": "code",
   "execution_count": 8,
   "metadata": {},
   "outputs": [
    {
     "data": {
      "text/html": [
       "<div>\n",
       "<style scoped>\n",
       "    .dataframe tbody tr th:only-of-type {\n",
       "        vertical-align: middle;\n",
       "    }\n",
       "\n",
       "    .dataframe tbody tr th {\n",
       "        vertical-align: top;\n",
       "    }\n",
       "\n",
       "    .dataframe thead th {\n",
       "        text-align: right;\n",
       "    }\n",
       "</style>\n",
       "<table border=\"1\" class=\"dataframe\">\n",
       "  <thead>\n",
       "    <tr style=\"text-align: right;\">\n",
       "      <th></th>\n",
       "      <th>Item_Weight</th>\n",
       "      <th>Item_Visibility</th>\n",
       "      <th>Item_MRP</th>\n",
       "      <th>Outlet_Establishment_Year</th>\n",
       "      <th>Item_Outlet_Sales</th>\n",
       "    </tr>\n",
       "  </thead>\n",
       "  <tbody>\n",
       "    <tr>\n",
       "      <th>count</th>\n",
       "      <td>7060.000000</td>\n",
       "      <td>8523.000000</td>\n",
       "      <td>8523.000000</td>\n",
       "      <td>8523.000000</td>\n",
       "      <td>8523.000000</td>\n",
       "    </tr>\n",
       "    <tr>\n",
       "      <th>mean</th>\n",
       "      <td>12.857645</td>\n",
       "      <td>0.066132</td>\n",
       "      <td>140.992782</td>\n",
       "      <td>1997.831867</td>\n",
       "      <td>2181.288914</td>\n",
       "    </tr>\n",
       "    <tr>\n",
       "      <th>std</th>\n",
       "      <td>4.643456</td>\n",
       "      <td>0.051598</td>\n",
       "      <td>62.275067</td>\n",
       "      <td>8.371760</td>\n",
       "      <td>1706.499616</td>\n",
       "    </tr>\n",
       "    <tr>\n",
       "      <th>min</th>\n",
       "      <td>4.555000</td>\n",
       "      <td>0.000000</td>\n",
       "      <td>31.290000</td>\n",
       "      <td>1985.000000</td>\n",
       "      <td>33.290000</td>\n",
       "    </tr>\n",
       "    <tr>\n",
       "      <th>25%</th>\n",
       "      <td>8.773750</td>\n",
       "      <td>0.026989</td>\n",
       "      <td>93.826500</td>\n",
       "      <td>1987.000000</td>\n",
       "      <td>834.247400</td>\n",
       "    </tr>\n",
       "    <tr>\n",
       "      <th>50%</th>\n",
       "      <td>12.600000</td>\n",
       "      <td>0.053931</td>\n",
       "      <td>143.012800</td>\n",
       "      <td>1999.000000</td>\n",
       "      <td>1794.331000</td>\n",
       "    </tr>\n",
       "    <tr>\n",
       "      <th>75%</th>\n",
       "      <td>16.850000</td>\n",
       "      <td>0.094585</td>\n",
       "      <td>185.643700</td>\n",
       "      <td>2004.000000</td>\n",
       "      <td>3101.296400</td>\n",
       "    </tr>\n",
       "    <tr>\n",
       "      <th>max</th>\n",
       "      <td>21.350000</td>\n",
       "      <td>0.328391</td>\n",
       "      <td>266.888400</td>\n",
       "      <td>2009.000000</td>\n",
       "      <td>13086.964800</td>\n",
       "    </tr>\n",
       "  </tbody>\n",
       "</table>\n",
       "</div>"
      ],
      "text/plain": [
       "       Item_Weight  Item_Visibility     Item_MRP  Outlet_Establishment_Year   \n",
       "count  7060.000000      8523.000000  8523.000000                8523.000000  \\\n",
       "mean     12.857645         0.066132   140.992782                1997.831867   \n",
       "std       4.643456         0.051598    62.275067                   8.371760   \n",
       "min       4.555000         0.000000    31.290000                1985.000000   \n",
       "25%       8.773750         0.026989    93.826500                1987.000000   \n",
       "50%      12.600000         0.053931   143.012800                1999.000000   \n",
       "75%      16.850000         0.094585   185.643700                2004.000000   \n",
       "max      21.350000         0.328391   266.888400                2009.000000   \n",
       "\n",
       "       Item_Outlet_Sales  \n",
       "count        8523.000000  \n",
       "mean         2181.288914  \n",
       "std          1706.499616  \n",
       "min            33.290000  \n",
       "25%           834.247400  \n",
       "50%          1794.331000  \n",
       "75%          3101.296400  \n",
       "max         13086.964800  "
      ]
     },
     "execution_count": 8,
     "metadata": {},
     "output_type": "execute_result"
    }
   ],
   "source": [
    "#we fill the missing values with mean(item_weight) and mode(outlet_size)\n",
    "df_train.describe() #describe function displays the statistical values of all the numeric columns"
   ]
  },
  {
   "cell_type": "code",
   "execution_count": 9,
   "metadata": {},
   "outputs": [
    {
     "data": {
      "text/plain": [
       "count    7060.000000\n",
       "mean       12.857645\n",
       "std         4.643456\n",
       "min         4.555000\n",
       "25%         8.773750\n",
       "50%        12.600000\n",
       "75%        16.850000\n",
       "max        21.350000\n",
       "Name: Item_Weight, dtype: float64"
      ]
     },
     "execution_count": 9,
     "metadata": {},
     "output_type": "execute_result"
    }
   ],
   "source": [
    "df_train['Item_Weight'].describe() # or df_train.Item_Weight"
   ]
  },
  {
   "cell_type": "code",
   "execution_count": 10,
   "metadata": {},
   "outputs": [],
   "source": [
    "df_train.Item_Weight.fillna(df_train.Item_Weight.mean(), inplace=True) #fillna is fill null function\n",
    "df_test.Item_Weight.fillna(df_test.Item_Weight.mean(), inplace=True)"
   ]
  },
  {
   "cell_type": "code",
   "execution_count": 11,
   "metadata": {},
   "outputs": [
    {
     "data": {
      "text/plain": [
       "Item_Identifier                 0\n",
       "Item_Weight                     0\n",
       "Item_Fat_Content                0\n",
       "Item_Visibility                 0\n",
       "Item_Type                       0\n",
       "Item_MRP                        0\n",
       "Outlet_Identifier               0\n",
       "Outlet_Establishment_Year       0\n",
       "Outlet_Size                  2410\n",
       "Outlet_Location_Type            0\n",
       "Outlet_Type                     0\n",
       "Item_Outlet_Sales               0\n",
       "dtype: int64"
      ]
     },
     "execution_count": 11,
     "metadata": {},
     "output_type": "execute_result"
    }
   ],
   "source": [
    "df_train.isnull().sum()"
   ]
  },
  {
   "cell_type": "code",
   "execution_count": 12,
   "metadata": {},
   "outputs": [
    {
     "data": {
      "text/plain": [
       "Outlet_Size\n",
       "Medium    2793\n",
       "Small     2388\n",
       "High       932\n",
       "Name: count, dtype: int64"
      ]
     },
     "execution_count": 12,
     "metadata": {},
     "output_type": "execute_result"
    }
   ],
   "source": [
    "df_train.Outlet_Size.value_counts()"
   ]
  },
  {
   "cell_type": "code",
   "execution_count": 13,
   "metadata": {},
   "outputs": [
    {
     "data": {
      "text/plain": [
       "0    Medium\n",
       "Name: Outlet_Size, dtype: object"
      ]
     },
     "execution_count": 13,
     "metadata": {},
     "output_type": "execute_result"
    }
   ],
   "source": [
    "df_train.Outlet_Size.mode()"
   ]
  },
  {
   "cell_type": "code",
   "execution_count": 14,
   "metadata": {},
   "outputs": [],
   "source": [
    "df_train.Outlet_Size.fillna(df_train.Outlet_Size.mode()[0], inplace=True)\n",
    "df_test.Outlet_Size.fillna(df_test.Outlet_Size.mode()[0], inplace=True)"
   ]
  },
  {
   "cell_type": "code",
   "execution_count": 15,
   "metadata": {},
   "outputs": [
    {
     "data": {
      "text/plain": [
       "Item_Identifier              0\n",
       "Item_Weight                  0\n",
       "Item_Fat_Content             0\n",
       "Item_Visibility              0\n",
       "Item_Type                    0\n",
       "Item_MRP                     0\n",
       "Outlet_Identifier            0\n",
       "Outlet_Establishment_Year    0\n",
       "Outlet_Size                  0\n",
       "Outlet_Location_Type         0\n",
       "Outlet_Type                  0\n",
       "Item_Outlet_Sales            0\n",
       "dtype: int64"
      ]
     },
     "execution_count": 15,
     "metadata": {},
     "output_type": "execute_result"
    }
   ],
   "source": [
    "df_train.isnull().sum()"
   ]
  },
  {
   "cell_type": "code",
   "execution_count": 16,
   "metadata": {},
   "outputs": [],
   "source": [
    "#selecting features based on requirements and dropping the rest\n",
    "df_train.drop(['Item_Identifier','Outlet_Identifier','Outlet_Establishment_Year'], axis=1, inplace=True)\n",
    "df_test.drop(['Item_Identifier','Outlet_Identifier','Outlet_Establishment_Year'], axis=1, inplace=True)"
   ]
  },
  {
   "cell_type": "code",
   "execution_count": 17,
   "metadata": {},
   "outputs": [
    {
     "name": "stdout",
     "output_type": "stream",
     "text": [
      "<class 'pandas.core.frame.DataFrame'>\n",
      "RangeIndex: 8523 entries, 0 to 8522\n",
      "Data columns (total 9 columns):\n",
      " #   Column                Non-Null Count  Dtype  \n",
      "---  ------                --------------  -----  \n",
      " 0   Item_Weight           8523 non-null   float64\n",
      " 1   Item_Fat_Content      8523 non-null   object \n",
      " 2   Item_Visibility       8523 non-null   float64\n",
      " 3   Item_Type             8523 non-null   object \n",
      " 4   Item_MRP              8523 non-null   float64\n",
      " 5   Outlet_Size           8523 non-null   object \n",
      " 6   Outlet_Location_Type  8523 non-null   object \n",
      " 7   Outlet_Type           8523 non-null   object \n",
      " 8   Item_Outlet_Sales     8523 non-null   float64\n",
      "dtypes: float64(4), object(5)\n",
      "memory usage: 599.4+ KB\n"
     ]
    }
   ],
   "source": [
    "df_train.info()"
   ]
  },
  {
   "cell_type": "code",
   "execution_count": 18,
   "metadata": {},
   "outputs": [],
   "source": [
    "#EDA - Exploratory Data Analysis\n",
    "\n",
    "#using Dtale library\n",
    "import dtale"
   ]
  },
  {
   "cell_type": "code",
   "execution_count": 19,
   "metadata": {},
   "outputs": [
    {
     "data": {
      "text/html": [
       "\n",
       "        <iframe\n",
       "            width=\"100%\"\n",
       "            height=\"475\"\n",
       "            src=\"http://DESKTOP-H9GSHJ6:40000/dtale/iframe/1\"\n",
       "            frameborder=\"0\"\n",
       "            allowfullscreen\n",
       "            \n",
       "        ></iframe>\n",
       "        "
      ],
      "text/plain": [
       "<IPython.lib.display.IFrame at 0x1a6668b3460>"
      ]
     },
     "metadata": {},
     "output_type": "display_data"
    },
    {
     "data": {
      "text/plain": []
     },
     "execution_count": 19,
     "metadata": {},
     "output_type": "execute_result"
    }
   ],
   "source": [
    "dtale.show(df_train)"
   ]
  },
  {
   "cell_type": "code",
   "execution_count": 20,
   "metadata": {},
   "outputs": [],
   "source": [
    "#checking heatmap/ correlation using seaborn\n",
    "# plt.figure(figsize=(10,5))\n",
    "# sns.heatmap(df_train.corr(), annot=True)\n",
    "# plt.show()"
   ]
  },
  {
   "cell_type": "code",
   "execution_count": 21,
   "metadata": {},
   "outputs": [],
   "source": [
    "#using klib library\n",
    "import klib"
   ]
  },
  {
   "cell_type": "code",
   "execution_count": 22,
   "metadata": {},
   "outputs": [
    {
     "data": {
      "text/html": [
       "<style type=\"text/css\">\n",
       "#T_bf145_row0_col0, #T_bf145_row0_col2, #T_bf145_row0_col3, #T_bf145_row1_col1, #T_bf145_row2_col0, #T_bf145_row2_col2, #T_bf145_row2_col3, #T_bf145_row3_col0, #T_bf145_row3_col2, #T_bf145_row3_col3 {\n",
       "  color: None;\n",
       "}\n",
       "#T_bf145_row0_col1, #T_bf145_row1_col0, #T_bf145_row1_col2, #T_bf145_row1_col3, #T_bf145_row2_col1, #T_bf145_row3_col1 {\n",
       "  color: #FF3344;\n",
       "}\n",
       "</style>\n",
       "<table id=\"T_bf145\">\n",
       "  <thead>\n",
       "    <tr>\n",
       "      <th class=\"blank level0\" >&nbsp;</th>\n",
       "      <th id=\"T_bf145_level0_col0\" class=\"col_heading level0 col0\" >Item_Weight</th>\n",
       "      <th id=\"T_bf145_level0_col1\" class=\"col_heading level0 col1\" >Item_Visibility</th>\n",
       "      <th id=\"T_bf145_level0_col2\" class=\"col_heading level0 col2\" >Item_MRP</th>\n",
       "      <th id=\"T_bf145_level0_col3\" class=\"col_heading level0 col3\" >Item_Outlet_Sales</th>\n",
       "    </tr>\n",
       "  </thead>\n",
       "  <tbody>\n",
       "    <tr>\n",
       "      <th id=\"T_bf145_level0_row0\" class=\"row_heading level0 row0\" >Item_Weight</th>\n",
       "      <td id=\"T_bf145_row0_col0\" class=\"data row0 col0\" >1.00</td>\n",
       "      <td id=\"T_bf145_row0_col1\" class=\"data row0 col1\" >-0.01</td>\n",
       "      <td id=\"T_bf145_row0_col2\" class=\"data row0 col2\" >0.02</td>\n",
       "      <td id=\"T_bf145_row0_col3\" class=\"data row0 col3\" >0.01</td>\n",
       "    </tr>\n",
       "    <tr>\n",
       "      <th id=\"T_bf145_level0_row1\" class=\"row_heading level0 row1\" >Item_Visibility</th>\n",
       "      <td id=\"T_bf145_row1_col0\" class=\"data row1 col0\" >-0.01</td>\n",
       "      <td id=\"T_bf145_row1_col1\" class=\"data row1 col1\" >1.00</td>\n",
       "      <td id=\"T_bf145_row1_col2\" class=\"data row1 col2\" >-0.00</td>\n",
       "      <td id=\"T_bf145_row1_col3\" class=\"data row1 col3\" >-0.13</td>\n",
       "    </tr>\n",
       "    <tr>\n",
       "      <th id=\"T_bf145_level0_row2\" class=\"row_heading level0 row2\" >Item_MRP</th>\n",
       "      <td id=\"T_bf145_row2_col0\" class=\"data row2 col0\" >0.02</td>\n",
       "      <td id=\"T_bf145_row2_col1\" class=\"data row2 col1\" >-0.00</td>\n",
       "      <td id=\"T_bf145_row2_col2\" class=\"data row2 col2\" >1.00</td>\n",
       "      <td id=\"T_bf145_row2_col3\" class=\"data row2 col3\" >0.57</td>\n",
       "    </tr>\n",
       "    <tr>\n",
       "      <th id=\"T_bf145_level0_row3\" class=\"row_heading level0 row3\" >Item_Outlet_Sales</th>\n",
       "      <td id=\"T_bf145_row3_col0\" class=\"data row3 col0\" >0.01</td>\n",
       "      <td id=\"T_bf145_row3_col1\" class=\"data row3 col1\" >-0.13</td>\n",
       "      <td id=\"T_bf145_row3_col2\" class=\"data row3 col2\" >0.57</td>\n",
       "      <td id=\"T_bf145_row3_col3\" class=\"data row3 col3\" >1.00</td>\n",
       "    </tr>\n",
       "  </tbody>\n",
       "</table>\n"
      ],
      "text/plain": [
       "<pandas.io.formats.style.Styler at 0x1a666754be0>"
      ]
     },
     "execution_count": 22,
     "metadata": {},
     "output_type": "execute_result"
    }
   ],
   "source": [
    "klib.corr_mat(df_train)"
   ]
  },
  {
   "cell_type": "code",
   "execution_count": 23,
   "metadata": {},
   "outputs": [
    {
     "data": {
      "text/plain": [
       "<Axes: title={'center': 'Feature-correlation (pearson)'}>"
      ]
     },
     "execution_count": 23,
     "metadata": {},
     "output_type": "execute_result"
    },
    {
     "data": {
      "image/png": "[encoded data removed]",
      "text/plain": [
       "<Figure size 1200x1000 with 2 Axes>"
      ]
     },
     "metadata": {},
     "output_type": "display_data"
    }
   ],
   "source": [
    "klib.corr_plot(df_train)"
   ]
  },
  {
   "cell_type": "code",
   "execution_count": 24,
   "metadata": {},
   "outputs": [
    {
     "data": {
      "text/plain": [
       "GridSpec(6, 5)"
      ]
     },
     "execution_count": 24,
     "metadata": {},
     "output_type": "execute_result"
    },
    {
     "data": {
      "image/png": "[encoded data removed]",
      "text/plain": [
       "<Figure size 1800x1800 with 11 Axes>"
      ]
     },
     "metadata": {},
     "output_type": "display_data"
    }
   ],
   "source": [
    "klib.cat_plot(df_train) #returns a visualization of the number and frequency of categorical features"
   ]
  },
  {
   "cell_type": "code",
   "execution_count": 25,
   "metadata": {},
   "outputs": [
    {
     "data": {
      "text/plain": [
       "<Axes: xlabel='Item_Weight', ylabel='Density'>"
      ]
     },
     "execution_count": 25,
     "metadata": {},
     "output_type": "execute_result"
    },
    {
     "data": {
      "image/png": "[encoded data removed]",
      "text/plain": [
       "<Figure size 1500x300 with 1 Axes>"
      ]
     },
     "metadata": {},
     "output_type": "display_data"
    }
   ],
   "source": [
    "klib.dist_plot(df_train)"
   ]
  },
  {
   "cell_type": "code",
   "execution_count": 26,
   "metadata": {},
   "outputs": [
    {
     "name": "stdout",
     "output_type": "stream",
     "text": [
      "No missing values found in the dataset.\n"
     ]
    }
   ],
   "source": [
    "klib.missingval_plot(df_train)"
   ]
  },
  {
   "cell_type": "code",
   "execution_count": 27,
   "metadata": {},
   "outputs": [
    {
     "name": "stdout",
     "output_type": "stream",
     "text": [
      "Shape of cleaned data: (8523, 9) - Remaining NAs: 0\n",
      "\n",
      "\n",
      "Dropped rows: 0\n",
      "     of which 0 duplicates. (Rows (first 150 shown): [])\n",
      "\n",
      "Dropped columns: 0\n",
      "     of which 0 single valued.     Columns: []\n",
      "Dropped missing values: 0\n",
      "Reduced memory by at least: 0.42 MB (-71.19%)\n",
      "\n"
     ]
    },
    {
     "data": {
      "text/html": [
       "<div>\n",
       "<style scoped>\n",
       "    .dataframe tbody tr th:only-of-type {\n",
       "        vertical-align: middle;\n",
       "    }\n",
       "\n",
       "    .dataframe tbody tr th {\n",
       "        vertical-align: top;\n",
       "    }\n",
       "\n",
       "    .dataframe thead th {\n",
       "        text-align: right;\n",
       "    }\n",
       "</style>\n",
       "<table border=\"1\" class=\"dataframe\">\n",
       "  <thead>\n",
       "    <tr style=\"text-align: right;\">\n",
       "      <th></th>\n",
       "      <th>item_weight</th>\n",
       "      <th>item_fat_content</th>\n",
       "      <th>item_visibility</th>\n",
       "      <th>item_type</th>\n",
       "      <th>item_mrp</th>\n",
       "      <th>outlet_size</th>\n",
       "      <th>outlet_location_type</th>\n",
       "      <th>outlet_type</th>\n",
       "      <th>item_outlet_sales</th>\n",
       "    </tr>\n",
       "  </thead>\n",
       "  <tbody>\n",
       "    <tr>\n",
       "      <th>0</th>\n",
       "      <td>9.300000</td>\n",
       "      <td>Low Fat</td>\n",
       "      <td>0.016047</td>\n",
       "      <td>Dairy</td>\n",
       "      <td>249.809204</td>\n",
       "      <td>Medium</td>\n",
       "      <td>Tier 1</td>\n",
       "      <td>Supermarket Type1</td>\n",
       "      <td>3735.137939</td>\n",
       "    </tr>\n",
       "    <tr>\n",
       "      <th>1</th>\n",
       "      <td>5.920000</td>\n",
       "      <td>Regular</td>\n",
       "      <td>0.019278</td>\n",
       "      <td>Soft Drinks</td>\n",
       "      <td>48.269199</td>\n",
       "      <td>Medium</td>\n",
       "      <td>Tier 3</td>\n",
       "      <td>Supermarket Type2</td>\n",
       "      <td>443.422791</td>\n",
       "    </tr>\n",
       "    <tr>\n",
       "      <th>2</th>\n",
       "      <td>17.500000</td>\n",
       "      <td>Low Fat</td>\n",
       "      <td>0.016760</td>\n",
       "      <td>Meat</td>\n",
       "      <td>141.617996</td>\n",
       "      <td>Medium</td>\n",
       "      <td>Tier 1</td>\n",
       "      <td>Supermarket Type1</td>\n",
       "      <td>2097.270020</td>\n",
       "    </tr>\n",
       "    <tr>\n",
       "      <th>3</th>\n",
       "      <td>19.200001</td>\n",
       "      <td>Regular</td>\n",
       "      <td>0.000000</td>\n",
       "      <td>Fruits and Vegetables</td>\n",
       "      <td>182.095001</td>\n",
       "      <td>Medium</td>\n",
       "      <td>Tier 3</td>\n",
       "      <td>Grocery Store</td>\n",
       "      <td>732.380005</td>\n",
       "    </tr>\n",
       "    <tr>\n",
       "      <th>4</th>\n",
       "      <td>8.930000</td>\n",
       "      <td>Low Fat</td>\n",
       "      <td>0.000000</td>\n",
       "      <td>Household</td>\n",
       "      <td>53.861401</td>\n",
       "      <td>High</td>\n",
       "      <td>Tier 3</td>\n",
       "      <td>Supermarket Type1</td>\n",
       "      <td>994.705200</td>\n",
       "    </tr>\n",
       "    <tr>\n",
       "      <th>...</th>\n",
       "      <td>...</td>\n",
       "      <td>...</td>\n",
       "      <td>...</td>\n",
       "      <td>...</td>\n",
       "      <td>...</td>\n",
       "      <td>...</td>\n",
       "      <td>...</td>\n",
       "      <td>...</td>\n",
       "      <td>...</td>\n",
       "    </tr>\n",
       "    <tr>\n",
       "      <th>8518</th>\n",
       "      <td>6.865000</td>\n",
       "      <td>Low Fat</td>\n",
       "      <td>0.056783</td>\n",
       "      <td>Snack Foods</td>\n",
       "      <td>214.521805</td>\n",
       "      <td>High</td>\n",
       "      <td>Tier 3</td>\n",
       "      <td>Supermarket Type1</td>\n",
       "      <td>2778.383301</td>\n",
       "    </tr>\n",
       "    <tr>\n",
       "      <th>8519</th>\n",
       "      <td>8.380000</td>\n",
       "      <td>Regular</td>\n",
       "      <td>0.046982</td>\n",
       "      <td>Baking Goods</td>\n",
       "      <td>108.156998</td>\n",
       "      <td>Medium</td>\n",
       "      <td>Tier 2</td>\n",
       "      <td>Supermarket Type1</td>\n",
       "      <td>549.284973</td>\n",
       "    </tr>\n",
       "    <tr>\n",
       "      <th>8520</th>\n",
       "      <td>10.600000</td>\n",
       "      <td>Low Fat</td>\n",
       "      <td>0.035186</td>\n",
       "      <td>Health and Hygiene</td>\n",
       "      <td>85.122398</td>\n",
       "      <td>Small</td>\n",
       "      <td>Tier 2</td>\n",
       "      <td>Supermarket Type1</td>\n",
       "      <td>1193.113647</td>\n",
       "    </tr>\n",
       "    <tr>\n",
       "      <th>8521</th>\n",
       "      <td>7.210000</td>\n",
       "      <td>Regular</td>\n",
       "      <td>0.145221</td>\n",
       "      <td>Snack Foods</td>\n",
       "      <td>103.133202</td>\n",
       "      <td>Medium</td>\n",
       "      <td>Tier 3</td>\n",
       "      <td>Supermarket Type2</td>\n",
       "      <td>1845.597656</td>\n",
       "    </tr>\n",
       "    <tr>\n",
       "      <th>8522</th>\n",
       "      <td>14.800000</td>\n",
       "      <td>Low Fat</td>\n",
       "      <td>0.044878</td>\n",
       "      <td>Soft Drinks</td>\n",
       "      <td>75.467003</td>\n",
       "      <td>Small</td>\n",
       "      <td>Tier 1</td>\n",
       "      <td>Supermarket Type1</td>\n",
       "      <td>765.669983</td>\n",
       "    </tr>\n",
       "  </tbody>\n",
       "</table>\n",
       "<p>8523 rows × 9 columns</p>\n",
       "</div>"
      ],
      "text/plain": [
       "      item_weight item_fat_content  item_visibility              item_type   \n",
       "0        9.300000          Low Fat         0.016047                  Dairy  \\\n",
       "1        5.920000          Regular         0.019278            Soft Drinks   \n",
       "2       17.500000          Low Fat         0.016760                   Meat   \n",
       "3       19.200001          Regular         0.000000  Fruits and Vegetables   \n",
       "4        8.930000          Low Fat         0.000000              Household   \n",
       "...           ...              ...              ...                    ...   \n",
       "8518     6.865000          Low Fat         0.056783            Snack Foods   \n",
       "8519     8.380000          Regular         0.046982           Baking Goods   \n",
       "8520    10.600000          Low Fat         0.035186     Health and Hygiene   \n",
       "8521     7.210000          Regular         0.145221            Snack Foods   \n",
       "8522    14.800000          Low Fat         0.044878            Soft Drinks   \n",
       "\n",
       "        item_mrp outlet_size outlet_location_type        outlet_type   \n",
       "0     249.809204      Medium               Tier 1  Supermarket Type1  \\\n",
       "1      48.269199      Medium               Tier 3  Supermarket Type2   \n",
       "2     141.617996      Medium               Tier 1  Supermarket Type1   \n",
       "3     182.095001      Medium               Tier 3      Grocery Store   \n",
       "4      53.861401        High               Tier 3  Supermarket Type1   \n",
       "...          ...         ...                  ...                ...   \n",
       "8518  214.521805        High               Tier 3  Supermarket Type1   \n",
       "8519  108.156998      Medium               Tier 2  Supermarket Type1   \n",
       "8520   85.122398       Small               Tier 2  Supermarket Type1   \n",
       "8521  103.133202      Medium               Tier 3  Supermarket Type2   \n",
       "8522   75.467003       Small               Tier 1  Supermarket Type1   \n",
       "\n",
       "      item_outlet_sales  \n",
       "0           3735.137939  \n",
       "1            443.422791  \n",
       "2           2097.270020  \n",
       "3            732.380005  \n",
       "4            994.705200  \n",
       "...                 ...  \n",
       "8518        2778.383301  \n",
       "8519         549.284973  \n",
       "8520        1193.113647  \n",
       "8521        1845.597656  \n",
       "8522         765.669983  \n",
       "\n",
       "[8523 rows x 9 columns]"
      ]
     },
     "execution_count": 27,
     "metadata": {},
     "output_type": "execute_result"
    }
   ],
   "source": [
    "# data cleaning (using klib library)\n",
    "klib.data_cleaning(df_train) #performs data cleaning (drop duplicates & empty rows/cols, adjust dtypes, ...)"
   ]
  },
  {
   "cell_type": "code",
   "execution_count": 28,
   "metadata": {},
   "outputs": [
    {
     "data": {
      "text/html": [
       "<div>\n",
       "<style scoped>\n",
       "    .dataframe tbody tr th:only-of-type {\n",
       "        vertical-align: middle;\n",
       "    }\n",
       "\n",
       "    .dataframe tbody tr th {\n",
       "        vertical-align: top;\n",
       "    }\n",
       "\n",
       "    .dataframe thead th {\n",
       "        text-align: right;\n",
       "    }\n",
       "</style>\n",
       "<table border=\"1\" class=\"dataframe\">\n",
       "  <thead>\n",
       "    <tr style=\"text-align: right;\">\n",
       "      <th></th>\n",
       "      <th>item_weight</th>\n",
       "      <th>item_fat_content</th>\n",
       "      <th>item_visibility</th>\n",
       "      <th>item_type</th>\n",
       "      <th>item_mrp</th>\n",
       "      <th>outlet_size</th>\n",
       "      <th>outlet_location_type</th>\n",
       "      <th>outlet_type</th>\n",
       "      <th>item_outlet_sales</th>\n",
       "    </tr>\n",
       "  </thead>\n",
       "  <tbody>\n",
       "    <tr>\n",
       "      <th>0</th>\n",
       "      <td>9.300</td>\n",
       "      <td>Low Fat</td>\n",
       "      <td>0.016047</td>\n",
       "      <td>Dairy</td>\n",
       "      <td>249.8092</td>\n",
       "      <td>Medium</td>\n",
       "      <td>Tier 1</td>\n",
       "      <td>Supermarket Type1</td>\n",
       "      <td>3735.1380</td>\n",
       "    </tr>\n",
       "    <tr>\n",
       "      <th>1</th>\n",
       "      <td>5.920</td>\n",
       "      <td>Regular</td>\n",
       "      <td>0.019278</td>\n",
       "      <td>Soft Drinks</td>\n",
       "      <td>48.2692</td>\n",
       "      <td>Medium</td>\n",
       "      <td>Tier 3</td>\n",
       "      <td>Supermarket Type2</td>\n",
       "      <td>443.4228</td>\n",
       "    </tr>\n",
       "    <tr>\n",
       "      <th>2</th>\n",
       "      <td>17.500</td>\n",
       "      <td>Low Fat</td>\n",
       "      <td>0.016760</td>\n",
       "      <td>Meat</td>\n",
       "      <td>141.6180</td>\n",
       "      <td>Medium</td>\n",
       "      <td>Tier 1</td>\n",
       "      <td>Supermarket Type1</td>\n",
       "      <td>2097.2700</td>\n",
       "    </tr>\n",
       "    <tr>\n",
       "      <th>3</th>\n",
       "      <td>19.200</td>\n",
       "      <td>Regular</td>\n",
       "      <td>0.000000</td>\n",
       "      <td>Fruits and Vegetables</td>\n",
       "      <td>182.0950</td>\n",
       "      <td>Medium</td>\n",
       "      <td>Tier 3</td>\n",
       "      <td>Grocery Store</td>\n",
       "      <td>732.3800</td>\n",
       "    </tr>\n",
       "    <tr>\n",
       "      <th>4</th>\n",
       "      <td>8.930</td>\n",
       "      <td>Low Fat</td>\n",
       "      <td>0.000000</td>\n",
       "      <td>Household</td>\n",
       "      <td>53.8614</td>\n",
       "      <td>High</td>\n",
       "      <td>Tier 3</td>\n",
       "      <td>Supermarket Type1</td>\n",
       "      <td>994.7052</td>\n",
       "    </tr>\n",
       "    <tr>\n",
       "      <th>...</th>\n",
       "      <td>...</td>\n",
       "      <td>...</td>\n",
       "      <td>...</td>\n",
       "      <td>...</td>\n",
       "      <td>...</td>\n",
       "      <td>...</td>\n",
       "      <td>...</td>\n",
       "      <td>...</td>\n",
       "      <td>...</td>\n",
       "    </tr>\n",
       "    <tr>\n",
       "      <th>8518</th>\n",
       "      <td>6.865</td>\n",
       "      <td>Low Fat</td>\n",
       "      <td>0.056783</td>\n",
       "      <td>Snack Foods</td>\n",
       "      <td>214.5218</td>\n",
       "      <td>High</td>\n",
       "      <td>Tier 3</td>\n",
       "      <td>Supermarket Type1</td>\n",
       "      <td>2778.3834</td>\n",
       "    </tr>\n",
       "    <tr>\n",
       "      <th>8519</th>\n",
       "      <td>8.380</td>\n",
       "      <td>Regular</td>\n",
       "      <td>0.046982</td>\n",
       "      <td>Baking Goods</td>\n",
       "      <td>108.1570</td>\n",
       "      <td>Medium</td>\n",
       "      <td>Tier 2</td>\n",
       "      <td>Supermarket Type1</td>\n",
       "      <td>549.2850</td>\n",
       "    </tr>\n",
       "    <tr>\n",
       "      <th>8520</th>\n",
       "      <td>10.600</td>\n",
       "      <td>Low Fat</td>\n",
       "      <td>0.035186</td>\n",
       "      <td>Health and Hygiene</td>\n",
       "      <td>85.1224</td>\n",
       "      <td>Small</td>\n",
       "      <td>Tier 2</td>\n",
       "      <td>Supermarket Type1</td>\n",
       "      <td>1193.1136</td>\n",
       "    </tr>\n",
       "    <tr>\n",
       "      <th>8521</th>\n",
       "      <td>7.210</td>\n",
       "      <td>Regular</td>\n",
       "      <td>0.145221</td>\n",
       "      <td>Snack Foods</td>\n",
       "      <td>103.1332</td>\n",
       "      <td>Medium</td>\n",
       "      <td>Tier 3</td>\n",
       "      <td>Supermarket Type2</td>\n",
       "      <td>1845.5976</td>\n",
       "    </tr>\n",
       "    <tr>\n",
       "      <th>8522</th>\n",
       "      <td>14.800</td>\n",
       "      <td>Low Fat</td>\n",
       "      <td>0.044878</td>\n",
       "      <td>Soft Drinks</td>\n",
       "      <td>75.4670</td>\n",
       "      <td>Small</td>\n",
       "      <td>Tier 1</td>\n",
       "      <td>Supermarket Type1</td>\n",
       "      <td>765.6700</td>\n",
       "    </tr>\n",
       "  </tbody>\n",
       "</table>\n",
       "<p>8523 rows × 9 columns</p>\n",
       "</div>"
      ],
      "text/plain": [
       "      item_weight item_fat_content  item_visibility              item_type   \n",
       "0           9.300          Low Fat         0.016047                  Dairy  \\\n",
       "1           5.920          Regular         0.019278            Soft Drinks   \n",
       "2          17.500          Low Fat         0.016760                   Meat   \n",
       "3          19.200          Regular         0.000000  Fruits and Vegetables   \n",
       "4           8.930          Low Fat         0.000000              Household   \n",
       "...           ...              ...              ...                    ...   \n",
       "8518        6.865          Low Fat         0.056783            Snack Foods   \n",
       "8519        8.380          Regular         0.046982           Baking Goods   \n",
       "8520       10.600          Low Fat         0.035186     Health and Hygiene   \n",
       "8521        7.210          Regular         0.145221            Snack Foods   \n",
       "8522       14.800          Low Fat         0.044878            Soft Drinks   \n",
       "\n",
       "      item_mrp outlet_size outlet_location_type        outlet_type   \n",
       "0     249.8092      Medium               Tier 1  Supermarket Type1  \\\n",
       "1      48.2692      Medium               Tier 3  Supermarket Type2   \n",
       "2     141.6180      Medium               Tier 1  Supermarket Type1   \n",
       "3     182.0950      Medium               Tier 3      Grocery Store   \n",
       "4      53.8614        High               Tier 3  Supermarket Type1   \n",
       "...        ...         ...                  ...                ...   \n",
       "8518  214.5218        High               Tier 3  Supermarket Type1   \n",
       "8519  108.1570      Medium               Tier 2  Supermarket Type1   \n",
       "8520   85.1224       Small               Tier 2  Supermarket Type1   \n",
       "8521  103.1332      Medium               Tier 3  Supermarket Type2   \n",
       "8522   75.4670       Small               Tier 1  Supermarket Type1   \n",
       "\n",
       "      item_outlet_sales  \n",
       "0             3735.1380  \n",
       "1              443.4228  \n",
       "2             2097.2700  \n",
       "3              732.3800  \n",
       "4              994.7052  \n",
       "...                 ...  \n",
       "8518          2778.3834  \n",
       "8519           549.2850  \n",
       "8520          1193.1136  \n",
       "8521          1845.5976  \n",
       "8522           765.6700  \n",
       "\n",
       "[8523 rows x 9 columns]"
      ]
     },
     "execution_count": 28,
     "metadata": {},
     "output_type": "execute_result"
    }
   ],
   "source": [
    "klib.clean_column_names(df_train) # cleans and standardizes column names, also called inside data_cleaning()"
   ]
  },
  {
   "cell_type": "code",
   "execution_count": 29,
   "metadata": {},
   "outputs": [
    {
     "name": "stdout",
     "output_type": "stream",
     "text": [
      "<class 'pandas.core.frame.DataFrame'>\n",
      "RangeIndex: 8523 entries, 0 to 8522\n",
      "Data columns (total 9 columns):\n",
      " #   Column                Non-Null Count  Dtype   \n",
      "---  ------                --------------  -----   \n",
      " 0   item_weight           8523 non-null   float32 \n",
      " 1   item_fat_content      8523 non-null   category\n",
      " 2   item_visibility       8523 non-null   float32 \n",
      " 3   item_type             8523 non-null   category\n",
      " 4   item_mrp              8523 non-null   float32 \n",
      " 5   outlet_size           8523 non-null   category\n",
      " 6   outlet_location_type  8523 non-null   category\n",
      " 7   outlet_type           8523 non-null   category\n",
      " 8   item_outlet_sales     8523 non-null   float32 \n",
      "dtypes: category(5), float32(4)\n",
      "memory usage: 176.2 KB\n"
     ]
    }
   ],
   "source": [
    "df_train = klib.convert_datatypes(df_train) #converts existing to more efficient dtypes, also called inside_cleaning()\n",
    "df_train.info()"
   ]
  },
  {
   "cell_type": "code",
   "execution_count": 30,
   "metadata": {},
   "outputs": [
    {
     "data": {
      "text/html": [
       "<div>\n",
       "<style scoped>\n",
       "    .dataframe tbody tr th:only-of-type {\n",
       "        vertical-align: middle;\n",
       "    }\n",
       "\n",
       "    .dataframe tbody tr th {\n",
       "        vertical-align: top;\n",
       "    }\n",
       "\n",
       "    .dataframe thead th {\n",
       "        text-align: right;\n",
       "    }\n",
       "</style>\n",
       "<table border=\"1\" class=\"dataframe\">\n",
       "  <thead>\n",
       "    <tr style=\"text-align: right;\">\n",
       "      <th></th>\n",
       "      <th>item_weight</th>\n",
       "      <th>item_fat_content</th>\n",
       "      <th>item_visibility</th>\n",
       "      <th>item_type</th>\n",
       "      <th>item_mrp</th>\n",
       "      <th>outlet_size</th>\n",
       "      <th>outlet_location_type</th>\n",
       "      <th>outlet_type</th>\n",
       "      <th>item_outlet_sales</th>\n",
       "    </tr>\n",
       "  </thead>\n",
       "  <tbody>\n",
       "    <tr>\n",
       "      <th>0</th>\n",
       "      <td>9.300000</td>\n",
       "      <td>Low Fat</td>\n",
       "      <td>0.016047</td>\n",
       "      <td>Dairy</td>\n",
       "      <td>249.809204</td>\n",
       "      <td>Medium</td>\n",
       "      <td>Tier 1</td>\n",
       "      <td>Supermarket Type1</td>\n",
       "      <td>3735.137939</td>\n",
       "    </tr>\n",
       "    <tr>\n",
       "      <th>1</th>\n",
       "      <td>5.920000</td>\n",
       "      <td>Regular</td>\n",
       "      <td>0.019278</td>\n",
       "      <td>Soft Drinks</td>\n",
       "      <td>48.269199</td>\n",
       "      <td>Medium</td>\n",
       "      <td>Tier 3</td>\n",
       "      <td>Supermarket Type2</td>\n",
       "      <td>443.422791</td>\n",
       "    </tr>\n",
       "    <tr>\n",
       "      <th>2</th>\n",
       "      <td>17.500000</td>\n",
       "      <td>Low Fat</td>\n",
       "      <td>0.016760</td>\n",
       "      <td>Meat</td>\n",
       "      <td>141.617996</td>\n",
       "      <td>Medium</td>\n",
       "      <td>Tier 1</td>\n",
       "      <td>Supermarket Type1</td>\n",
       "      <td>2097.270020</td>\n",
       "    </tr>\n",
       "    <tr>\n",
       "      <th>3</th>\n",
       "      <td>19.200001</td>\n",
       "      <td>Regular</td>\n",
       "      <td>0.000000</td>\n",
       "      <td>Fruits and Vegetables</td>\n",
       "      <td>182.095001</td>\n",
       "      <td>Medium</td>\n",
       "      <td>Tier 3</td>\n",
       "      <td>Grocery Store</td>\n",
       "      <td>732.380005</td>\n",
       "    </tr>\n",
       "    <tr>\n",
       "      <th>4</th>\n",
       "      <td>8.930000</td>\n",
       "      <td>Low Fat</td>\n",
       "      <td>0.000000</td>\n",
       "      <td>Household</td>\n",
       "      <td>53.861401</td>\n",
       "      <td>High</td>\n",
       "      <td>Tier 3</td>\n",
       "      <td>Supermarket Type1</td>\n",
       "      <td>994.705200</td>\n",
       "    </tr>\n",
       "    <tr>\n",
       "      <th>...</th>\n",
       "      <td>...</td>\n",
       "      <td>...</td>\n",
       "      <td>...</td>\n",
       "      <td>...</td>\n",
       "      <td>...</td>\n",
       "      <td>...</td>\n",
       "      <td>...</td>\n",
       "      <td>...</td>\n",
       "      <td>...</td>\n",
       "    </tr>\n",
       "    <tr>\n",
       "      <th>8518</th>\n",
       "      <td>6.865000</td>\n",
       "      <td>Low Fat</td>\n",
       "      <td>0.056783</td>\n",
       "      <td>Snack Foods</td>\n",
       "      <td>214.521805</td>\n",
       "      <td>High</td>\n",
       "      <td>Tier 3</td>\n",
       "      <td>Supermarket Type1</td>\n",
       "      <td>2778.383301</td>\n",
       "    </tr>\n",
       "    <tr>\n",
       "      <th>8519</th>\n",
       "      <td>8.380000</td>\n",
       "      <td>Regular</td>\n",
       "      <td>0.046982</td>\n",
       "      <td>Baking Goods</td>\n",
       "      <td>108.156998</td>\n",
       "      <td>Medium</td>\n",
       "      <td>Tier 2</td>\n",
       "      <td>Supermarket Type1</td>\n",
       "      <td>549.284973</td>\n",
       "    </tr>\n",
       "    <tr>\n",
       "      <th>8520</th>\n",
       "      <td>10.600000</td>\n",
       "      <td>Low Fat</td>\n",
       "      <td>0.035186</td>\n",
       "      <td>Health and Hygiene</td>\n",
       "      <td>85.122398</td>\n",
       "      <td>Small</td>\n",
       "      <td>Tier 2</td>\n",
       "      <td>Supermarket Type1</td>\n",
       "      <td>1193.113647</td>\n",
       "    </tr>\n",
       "    <tr>\n",
       "      <th>8521</th>\n",
       "      <td>7.210000</td>\n",
       "      <td>Regular</td>\n",
       "      <td>0.145221</td>\n",
       "      <td>Snack Foods</td>\n",
       "      <td>103.133202</td>\n",
       "      <td>Medium</td>\n",
       "      <td>Tier 3</td>\n",
       "      <td>Supermarket Type2</td>\n",
       "      <td>1845.597656</td>\n",
       "    </tr>\n",
       "    <tr>\n",
       "      <th>8522</th>\n",
       "      <td>14.800000</td>\n",
       "      <td>Low Fat</td>\n",
       "      <td>0.044878</td>\n",
       "      <td>Soft Drinks</td>\n",
       "      <td>75.467003</td>\n",
       "      <td>Small</td>\n",
       "      <td>Tier 1</td>\n",
       "      <td>Supermarket Type1</td>\n",
       "      <td>765.669983</td>\n",
       "    </tr>\n",
       "  </tbody>\n",
       "</table>\n",
       "<p>8523 rows × 9 columns</p>\n",
       "</div>"
      ],
      "text/plain": [
       "      item_weight item_fat_content  item_visibility              item_type   \n",
       "0        9.300000          Low Fat         0.016047                  Dairy  \\\n",
       "1        5.920000          Regular         0.019278            Soft Drinks   \n",
       "2       17.500000          Low Fat         0.016760                   Meat   \n",
       "3       19.200001          Regular         0.000000  Fruits and Vegetables   \n",
       "4        8.930000          Low Fat         0.000000              Household   \n",
       "...           ...              ...              ...                    ...   \n",
       "8518     6.865000          Low Fat         0.056783            Snack Foods   \n",
       "8519     8.380000          Regular         0.046982           Baking Goods   \n",
       "8520    10.600000          Low Fat         0.035186     Health and Hygiene   \n",
       "8521     7.210000          Regular         0.145221            Snack Foods   \n",
       "8522    14.800000          Low Fat         0.044878            Soft Drinks   \n",
       "\n",
       "        item_mrp outlet_size outlet_location_type        outlet_type   \n",
       "0     249.809204      Medium               Tier 1  Supermarket Type1  \\\n",
       "1      48.269199      Medium               Tier 3  Supermarket Type2   \n",
       "2     141.617996      Medium               Tier 1  Supermarket Type1   \n",
       "3     182.095001      Medium               Tier 3      Grocery Store   \n",
       "4      53.861401        High               Tier 3  Supermarket Type1   \n",
       "...          ...         ...                  ...                ...   \n",
       "8518  214.521805        High               Tier 3  Supermarket Type1   \n",
       "8519  108.156998      Medium               Tier 2  Supermarket Type1   \n",
       "8520   85.122398       Small               Tier 2  Supermarket Type1   \n",
       "8521  103.133202      Medium               Tier 3  Supermarket Type2   \n",
       "8522   75.467003       Small               Tier 1  Supermarket Type1   \n",
       "\n",
       "      item_outlet_sales  \n",
       "0           3735.137939  \n",
       "1            443.422791  \n",
       "2           2097.270020  \n",
       "3            732.380005  \n",
       "4            994.705200  \n",
       "...                 ...  \n",
       "8518        2778.383301  \n",
       "8519         549.284973  \n",
       "8520        1193.113647  \n",
       "8521        1845.597656  \n",
       "8522         765.669983  \n",
       "\n",
       "[8523 rows x 9 columns]"
      ]
     },
     "execution_count": 30,
     "metadata": {},
     "output_type": "execute_result"
    }
   ],
   "source": [
    "klib.mv_col_handling(df_train) #drops features with high ratio of missing values"
   ]
  },
  {
   "cell_type": "code",
   "execution_count": 31,
   "metadata": {},
   "outputs": [
    {
     "data": {
      "text/html": [
       "<div>\n",
       "<style scoped>\n",
       "    .dataframe tbody tr th:only-of-type {\n",
       "        vertical-align: middle;\n",
       "    }\n",
       "\n",
       "    .dataframe tbody tr th {\n",
       "        vertical-align: top;\n",
       "    }\n",
       "\n",
       "    .dataframe thead th {\n",
       "        text-align: right;\n",
       "    }\n",
       "</style>\n",
       "<table border=\"1\" class=\"dataframe\">\n",
       "  <thead>\n",
       "    <tr style=\"text-align: right;\">\n",
       "      <th></th>\n",
       "      <th>item_visibility</th>\n",
       "      <th>item_mrp</th>\n",
       "      <th>item_outlet_sales</th>\n",
       "      <th>pooled_vars</th>\n",
       "    </tr>\n",
       "  </thead>\n",
       "  <tbody>\n",
       "    <tr>\n",
       "      <th>0</th>\n",
       "      <td>0.016047</td>\n",
       "      <td>249.809204</td>\n",
       "      <td>3735.137939</td>\n",
       "      <td>0</td>\n",
       "    </tr>\n",
       "    <tr>\n",
       "      <th>1</th>\n",
       "      <td>0.019278</td>\n",
       "      <td>48.269199</td>\n",
       "      <td>443.422791</td>\n",
       "      <td>1</td>\n",
       "    </tr>\n",
       "    <tr>\n",
       "      <th>2</th>\n",
       "      <td>0.016760</td>\n",
       "      <td>141.617996</td>\n",
       "      <td>2097.270020</td>\n",
       "      <td>2</td>\n",
       "    </tr>\n",
       "    <tr>\n",
       "      <th>3</th>\n",
       "      <td>0.000000</td>\n",
       "      <td>182.095001</td>\n",
       "      <td>732.380005</td>\n",
       "      <td>3</td>\n",
       "    </tr>\n",
       "    <tr>\n",
       "      <th>4</th>\n",
       "      <td>0.000000</td>\n",
       "      <td>53.861401</td>\n",
       "      <td>994.705200</td>\n",
       "      <td>4</td>\n",
       "    </tr>\n",
       "    <tr>\n",
       "      <th>...</th>\n",
       "      <td>...</td>\n",
       "      <td>...</td>\n",
       "      <td>...</td>\n",
       "      <td>...</td>\n",
       "    </tr>\n",
       "    <tr>\n",
       "      <th>8518</th>\n",
       "      <td>0.056783</td>\n",
       "      <td>214.521805</td>\n",
       "      <td>2778.383301</td>\n",
       "      <td>8518</td>\n",
       "    </tr>\n",
       "    <tr>\n",
       "      <th>8519</th>\n",
       "      <td>0.046982</td>\n",
       "      <td>108.156998</td>\n",
       "      <td>549.284973</td>\n",
       "      <td>8279</td>\n",
       "    </tr>\n",
       "    <tr>\n",
       "      <th>8520</th>\n",
       "      <td>0.035186</td>\n",
       "      <td>85.122398</td>\n",
       "      <td>1193.113647</td>\n",
       "      <td>8520</td>\n",
       "    </tr>\n",
       "    <tr>\n",
       "      <th>8521</th>\n",
       "      <td>0.145221</td>\n",
       "      <td>103.133202</td>\n",
       "      <td>1845.597656</td>\n",
       "      <td>8521</td>\n",
       "    </tr>\n",
       "    <tr>\n",
       "      <th>8522</th>\n",
       "      <td>0.044878</td>\n",
       "      <td>75.467003</td>\n",
       "      <td>765.669983</td>\n",
       "      <td>8522</td>\n",
       "    </tr>\n",
       "  </tbody>\n",
       "</table>\n",
       "<p>8523 rows × 4 columns</p>\n",
       "</div>"
      ],
      "text/plain": [
       "      item_visibility    item_mrp  item_outlet_sales  pooled_vars\n",
       "0            0.016047  249.809204        3735.137939            0\n",
       "1            0.019278   48.269199         443.422791            1\n",
       "2            0.016760  141.617996        2097.270020            2\n",
       "3            0.000000  182.095001         732.380005            3\n",
       "4            0.000000   53.861401         994.705200            4\n",
       "...               ...         ...                ...          ...\n",
       "8518         0.056783  214.521805        2778.383301         8518\n",
       "8519         0.046982  108.156998         549.284973         8279\n",
       "8520         0.035186   85.122398        1193.113647         8520\n",
       "8521         0.145221  103.133202        1845.597656         8521\n",
       "8522         0.044878   75.467003         765.669983         8522\n",
       "\n",
       "[8523 rows x 4 columns]"
      ]
     },
     "execution_count": 31,
     "metadata": {},
     "output_type": "execute_result"
    }
   ],
   "source": [
    "klib.pool_duplicate_subsets(df_train) #pools subsets of columns based on duplicates with minimum loss of information"
   ]
  },
  {
   "cell_type": "code",
   "execution_count": 32,
   "metadata": {},
   "outputs": [],
   "source": [
    "#preprocessing task before model building (label encoding, splitting, standardization)"
   ]
  },
  {
   "cell_type": "code",
   "execution_count": 33,
   "metadata": {},
   "outputs": [
    {
     "name": "stdout",
     "output_type": "stream",
     "text": [
      "<class 'pandas.core.frame.DataFrame'>\n",
      "RangeIndex: 8523 entries, 0 to 8522\n",
      "Data columns (total 9 columns):\n",
      " #   Column                Non-Null Count  Dtype   \n",
      "---  ------                --------------  -----   \n",
      " 0   item_weight           8523 non-null   float32 \n",
      " 1   item_fat_content      8523 non-null   category\n",
      " 2   item_visibility       8523 non-null   float32 \n",
      " 3   item_type             8523 non-null   category\n",
      " 4   item_mrp              8523 non-null   float32 \n",
      " 5   outlet_size           8523 non-null   category\n",
      " 6   outlet_location_type  8523 non-null   category\n",
      " 7   outlet_type           8523 non-null   category\n",
      " 8   item_outlet_sales     8523 non-null   float32 \n",
      "dtypes: category(5), float32(4)\n",
      "memory usage: 176.2 KB\n"
     ]
    }
   ],
   "source": [
    "#label encoding\n",
    "from sklearn.preprocessing import LabelEncoder\n",
    "df_train.info()"
   ]
  },
  {
   "cell_type": "code",
   "execution_count": 34,
   "metadata": {},
   "outputs": [
    {
     "data": {
      "text/html": [
       "<div>\n",
       "<style scoped>\n",
       "    .dataframe tbody tr th:only-of-type {\n",
       "        vertical-align: middle;\n",
       "    }\n",
       "\n",
       "    .dataframe tbody tr th {\n",
       "        vertical-align: top;\n",
       "    }\n",
       "\n",
       "    .dataframe thead th {\n",
       "        text-align: right;\n",
       "    }\n",
       "</style>\n",
       "<table border=\"1\" class=\"dataframe\">\n",
       "  <thead>\n",
       "    <tr style=\"text-align: right;\">\n",
       "      <th></th>\n",
       "      <th>item_weight</th>\n",
       "      <th>item_fat_content</th>\n",
       "      <th>item_visibility</th>\n",
       "      <th>item_type</th>\n",
       "      <th>item_mrp</th>\n",
       "      <th>outlet_size</th>\n",
       "      <th>outlet_location_type</th>\n",
       "      <th>outlet_type</th>\n",
       "      <th>item_outlet_sales</th>\n",
       "    </tr>\n",
       "  </thead>\n",
       "  <tbody>\n",
       "    <tr>\n",
       "      <th>0</th>\n",
       "      <td>9.300000</td>\n",
       "      <td>1</td>\n",
       "      <td>0.016047</td>\n",
       "      <td>4</td>\n",
       "      <td>249.809204</td>\n",
       "      <td>1</td>\n",
       "      <td>0</td>\n",
       "      <td>1</td>\n",
       "      <td>3735.137939</td>\n",
       "    </tr>\n",
       "    <tr>\n",
       "      <th>1</th>\n",
       "      <td>5.920000</td>\n",
       "      <td>2</td>\n",
       "      <td>0.019278</td>\n",
       "      <td>14</td>\n",
       "      <td>48.269199</td>\n",
       "      <td>1</td>\n",
       "      <td>2</td>\n",
       "      <td>2</td>\n",
       "      <td>443.422791</td>\n",
       "    </tr>\n",
       "    <tr>\n",
       "      <th>2</th>\n",
       "      <td>17.500000</td>\n",
       "      <td>1</td>\n",
       "      <td>0.016760</td>\n",
       "      <td>10</td>\n",
       "      <td>141.617996</td>\n",
       "      <td>1</td>\n",
       "      <td>0</td>\n",
       "      <td>1</td>\n",
       "      <td>2097.270020</td>\n",
       "    </tr>\n",
       "    <tr>\n",
       "      <th>3</th>\n",
       "      <td>19.200001</td>\n",
       "      <td>2</td>\n",
       "      <td>0.000000</td>\n",
       "      <td>6</td>\n",
       "      <td>182.095001</td>\n",
       "      <td>1</td>\n",
       "      <td>2</td>\n",
       "      <td>0</td>\n",
       "      <td>732.380005</td>\n",
       "    </tr>\n",
       "    <tr>\n",
       "      <th>4</th>\n",
       "      <td>8.930000</td>\n",
       "      <td>1</td>\n",
       "      <td>0.000000</td>\n",
       "      <td>9</td>\n",
       "      <td>53.861401</td>\n",
       "      <td>0</td>\n",
       "      <td>2</td>\n",
       "      <td>1</td>\n",
       "      <td>994.705200</td>\n",
       "    </tr>\n",
       "  </tbody>\n",
       "</table>\n",
       "</div>"
      ],
      "text/plain": [
       "   item_weight  item_fat_content  item_visibility  item_type    item_mrp   \n",
       "0     9.300000                 1         0.016047          4  249.809204  \\\n",
       "1     5.920000                 2         0.019278         14   48.269199   \n",
       "2    17.500000                 1         0.016760         10  141.617996   \n",
       "3    19.200001                 2         0.000000          6  182.095001   \n",
       "4     8.930000                 1         0.000000          9   53.861401   \n",
       "\n",
       "   outlet_size  outlet_location_type  outlet_type  item_outlet_sales  \n",
       "0            1                     0            1        3735.137939  \n",
       "1            1                     2            2         443.422791  \n",
       "2            1                     0            1        2097.270020  \n",
       "3            1                     2            0         732.380005  \n",
       "4            0                     2            1         994.705200  "
      ]
     },
     "execution_count": 34,
     "metadata": {},
     "output_type": "execute_result"
    }
   ],
   "source": [
    "le = LabelEncoder()\n",
    "# df_train = df_train.apply(le.fit_transform)\n",
    "df_train['item_fat_content']= le.fit_transform(df_train['item_fat_content'])\n",
    "df_train['item_type']= le.fit_transform(df_train['item_type'])\n",
    "df_train['outlet_size']= le.fit_transform(df_train['outlet_size'])\n",
    "df_train['outlet_location_type']= le.fit_transform(df_train['outlet_location_type'])\n",
    "df_train['outlet_type']= le.fit_transform(df_train['outlet_type'])\n",
    "df_train.head()"
   ]
  },
  {
   "cell_type": "code",
   "execution_count": 35,
   "metadata": {},
   "outputs": [],
   "source": [
    "#one hot encoding\n",
    "from sklearn.preprocessing import OneHotEncoder"
   ]
  },
  {
   "cell_type": "code",
   "execution_count": 36,
   "metadata": {},
   "outputs": [],
   "source": [
    "OHE = OneHotEncoder()\n",
    "# df_train = pd.get_dummies(df_train, columns=['item_fat_content','outlet_size','outlet_location_type','outlet_type'])\n",
    "# df_train.head()"
   ]
  },
  {
   "cell_type": "code",
   "execution_count": 37,
   "metadata": {},
   "outputs": [],
   "source": [
    "#splitting the data to train and test\n",
    "from sklearn.model_selection import train_test_split"
   ]
  },
  {
   "cell_type": "code",
   "execution_count": 38,
   "metadata": {},
   "outputs": [],
   "source": [
    "X = df_train.drop('item_outlet_sales',axis=1)\n",
    "Y = df_train.item_outlet_sales\n",
    "X_train, X_test, Y_train, Y_test = train_test_split(X,Y,random_state=101,test_size=0.2)"
   ]
  },
  {
   "cell_type": "code",
   "execution_count": 39,
   "metadata": {},
   "outputs": [],
   "source": [
    "#standardization\n",
    "from sklearn.preprocessing import StandardScaler"
   ]
  },
  {
   "cell_type": "code",
   "execution_count": 40,
   "metadata": {},
   "outputs": [],
   "source": [
    "sc = StandardScaler()\n",
    "X_train_std = sc.fit_transform(X_train)\n",
    "X_test_std = sc.transform(X_test)"
   ]
  },
  {
   "cell_type": "code",
   "execution_count": 41,
   "metadata": {},
   "outputs": [
    {
     "data": {
      "text/plain": [
       "['C:\\\\Users\\\\shubham\\\\Desktop\\\\sales_prediction_model\\\\sales_prediction_project\\\\models\\\\standard_scaler.sav']"
      ]
     },
     "execution_count": 41,
     "metadata": {},
     "output_type": "execute_result"
    }
   ],
   "source": [
    "import joblib\n",
    "joblib.dump(sc,r'C:\\Users\\shubham\\Desktop\\sales_prediction_model\\sales_prediction_project\\models\\standard_scaler.sav')"
   ]
  },
  {
   "cell_type": "code",
   "execution_count": 42,
   "metadata": {},
   "outputs": [],
   "source": [
    "#model building\n"
   ]
  },
  {
   "cell_type": "code",
   "execution_count": 43,
   "metadata": {},
   "outputs": [],
   "source": [
    "#Liner Regression\n",
    "from sklearn.linear_model import LinearRegression"
   ]
  },
  {
   "cell_type": "code",
   "execution_count": 44,
   "metadata": {},
   "outputs": [
    {
     "data": {
      "text/html": [
       "<style>#sk-container-id-1 {color: black;}#sk-container-id-1 pre{padding: 0;}#sk-container-id-1 div.sk-toggleable {background-color: white;}#sk-container-id-1 label.sk-toggleable__label {cursor: pointer;display: block;width: 100%;margin-bottom: 0;padding: 0.3em;box-sizing: border-box;text-align: center;}#sk-container-id-1 label.sk-toggleable__label-arrow:before {content: \"▸\";float: left;margin-right: 0.25em;color: #696969;}#sk-container-id-1 label.sk-toggleable__label-arrow:hover:before {color: black;}#sk-container-id-1 div.sk-estimator:hover label.sk-toggleable__label-arrow:before {color: black;}#sk-container-id-1 div.sk-toggleable__content {max-height: 0;max-width: 0;overflow: hidden;text-align: left;background-color: #f0f8ff;}#sk-container-id-1 div.sk-toggleable__content pre {margin: 0.2em;color: black;border-radius: 0.25em;background-color: #f0f8ff;}#sk-container-id-1 input.sk-toggleable__control:checked~div.sk-toggleable__content {max-height: 200px;max-width: 100%;overflow: auto;}#sk-container-id-1 input.sk-toggleable__control:checked~label.sk-toggleable__label-arrow:before {content: \"▾\";}#sk-container-id-1 div.sk-estimator input.sk-toggleable__control:checked~label.sk-toggleable__label {background-color: #d4ebff;}#sk-container-id-1 div.sk-label input.sk-toggleable__control:checked~label.sk-toggleable__label {background-color: #d4ebff;}#sk-container-id-1 input.sk-hidden--visually {border: 0;clip: rect(1px 1px 1px 1px);clip: rect(1px, 1px, 1px, 1px);height: 1px;margin: -1px;overflow: hidden;padding: 0;position: absolute;width: 1px;}#sk-container-id-1 div.sk-estimator {font-family: monospace;background-color: #f0f8ff;border: 1px dotted black;border-radius: 0.25em;box-sizing: border-box;margin-bottom: 0.5em;}#sk-container-id-1 div.sk-estimator:hover {background-color: #d4ebff;}#sk-container-id-1 div.sk-parallel-item::after {content: \"\";width: 100%;border-bottom: 1px solid gray;flex-grow: 1;}#sk-container-id-1 div.sk-label:hover label.sk-toggleable__label {background-color: #d4ebff;}#sk-container-id-1 div.sk-serial::before {content: \"\";position: absolute;border-left: 1px solid gray;box-sizing: border-box;top: 0;bottom: 0;left: 50%;z-index: 0;}#sk-container-id-1 div.sk-serial {display: flex;flex-direction: column;align-items: center;background-color: white;padding-right: 0.2em;padding-left: 0.2em;position: relative;}#sk-container-id-1 div.sk-item {position: relative;z-index: 1;}#sk-container-id-1 div.sk-parallel {display: flex;align-items: stretch;justify-content: center;background-color: white;position: relative;}#sk-container-id-1 div.sk-item::before, #sk-container-id-1 div.sk-parallel-item::before {content: \"\";position: absolute;border-left: 1px solid gray;box-sizing: border-box;top: 0;bottom: 0;left: 50%;z-index: -1;}#sk-container-id-1 div.sk-parallel-item {display: flex;flex-direction: column;z-index: 1;position: relative;background-color: white;}#sk-container-id-1 div.sk-parallel-item:first-child::after {align-self: flex-end;width: 50%;}#sk-container-id-1 div.sk-parallel-item:last-child::after {align-self: flex-start;width: 50%;}#sk-container-id-1 div.sk-parallel-item:only-child::after {width: 0;}#sk-container-id-1 div.sk-dashed-wrapped {border: 1px dashed gray;margin: 0 0.4em 0.5em 0.4em;box-sizing: border-box;padding-bottom: 0.4em;background-color: white;}#sk-container-id-1 div.sk-label label {font-family: monospace;font-weight: bold;display: inline-block;line-height: 1.2em;}#sk-container-id-1 div.sk-label-container {text-align: center;}#sk-container-id-1 div.sk-container {/* jupyter's `normalize.less` sets `[hidden] { display: none; }` but bootstrap.min.css set `[hidden] { display: none !important; }` so we also need the `!important` here to be able to override the default hidden behavior on the sphinx rendered scikit-learn.org. See: https://github.com/scikit-learn/scikit-learn/issues/21755 */display: inline-block !important;position: relative;}#sk-container-id-1 div.sk-text-repr-fallback {display: none;}</style><div id=\"sk-container-id-1\" class=\"sk-top-container\"><div class=\"sk-text-repr-fallback\"><pre>LinearRegression()</pre><b>In a Jupyter environment, please rerun this cell to show the HTML representation or trust the notebook. <br />On GitHub, the HTML representation is unable to render, please try loading this page with nbviewer.org.</b></div><div class=\"sk-container\" hidden><div class=\"sk-item\"><div class=\"sk-estimator sk-toggleable\"><input class=\"sk-toggleable__control sk-hidden--visually\" id=\"sk-estimator-id-1\" type=\"checkbox\" checked><label for=\"sk-estimator-id-1\" class=\"sk-toggleable__label sk-toggleable__label-arrow\">LinearRegression</label><div class=\"sk-toggleable__content\"><pre>LinearRegression()</pre></div></div></div></div></div>"
      ],
      "text/plain": [
       "LinearRegression()"
      ]
     },
     "execution_count": 44,
     "metadata": {},
     "output_type": "execute_result"
    }
   ],
   "source": [
    "LR = LinearRegression()\n",
    "LR.fit(X_train_std,Y_train)"
   ]
  },
  {
   "cell_type": "code",
   "execution_count": 45,
   "metadata": {},
   "outputs": [],
   "source": [
    "Y_pred_LR = LR.predict(X_test_std)"
   ]
  },
  {
   "cell_type": "code",
   "execution_count": 46,
   "metadata": {},
   "outputs": [
    {
     "name": "stdout",
     "output_type": "stream",
     "text": [
      "0.5041231642108746\n",
      "880.83395864769\n",
      "1162.516769570633\n"
     ]
    }
   ],
   "source": [
    "from sklearn.metrics import r2_score, mean_absolute_error, mean_squared_error\n",
    "print(r2_score(Y_test,Y_pred_LR))\n",
    "print(mean_absolute_error(Y_test,Y_pred_LR))\n",
    "print(np.sqrt(mean_squared_error(Y_test,Y_pred_LR)))"
   ]
  },
  {
   "cell_type": "code",
   "execution_count": 47,
   "metadata": {},
   "outputs": [],
   "source": [
    "#Random Forest\n",
    "from sklearn.ensemble import RandomForestRegressor"
   ]
  },
  {
   "cell_type": "code",
   "execution_count": 48,
   "metadata": {},
   "outputs": [
    {
     "data": {
      "text/html": [
       "<style>#sk-container-id-2 {color: black;}#sk-container-id-2 pre{padding: 0;}#sk-container-id-2 div.sk-toggleable {background-color: white;}#sk-container-id-2 label.sk-toggleable__label {cursor: pointer;display: block;width: 100%;margin-bottom: 0;padding: 0.3em;box-sizing: border-box;text-align: center;}#sk-container-id-2 label.sk-toggleable__label-arrow:before {content: \"▸\";float: left;margin-right: 0.25em;color: #696969;}#sk-container-id-2 label.sk-toggleable__label-arrow:hover:before {color: black;}#sk-container-id-2 div.sk-estimator:hover label.sk-toggleable__label-arrow:before {color: black;}#sk-container-id-2 div.sk-toggleable__content {max-height: 0;max-width: 0;overflow: hidden;text-align: left;background-color: #f0f8ff;}#sk-container-id-2 div.sk-toggleable__content pre {margin: 0.2em;color: black;border-radius: 0.25em;background-color: #f0f8ff;}#sk-container-id-2 input.sk-toggleable__control:checked~div.sk-toggleable__content {max-height: 200px;max-width: 100%;overflow: auto;}#sk-container-id-2 input.sk-toggleable__control:checked~label.sk-toggleable__label-arrow:before {content: \"▾\";}#sk-container-id-2 div.sk-estimator input.sk-toggleable__control:checked~label.sk-toggleable__label {background-color: #d4ebff;}#sk-container-id-2 div.sk-label input.sk-toggleable__control:checked~label.sk-toggleable__label {background-color: #d4ebff;}#sk-container-id-2 input.sk-hidden--visually {border: 0;clip: rect(1px 1px 1px 1px);clip: rect(1px, 1px, 1px, 1px);height: 1px;margin: -1px;overflow: hidden;padding: 0;position: absolute;width: 1px;}#sk-container-id-2 div.sk-estimator {font-family: monospace;background-color: #f0f8ff;border: 1px dotted black;border-radius: 0.25em;box-sizing: border-box;margin-bottom: 0.5em;}#sk-container-id-2 div.sk-estimator:hover {background-color: #d4ebff;}#sk-container-id-2 div.sk-parallel-item::after {content: \"\";width: 100%;border-bottom: 1px solid gray;flex-grow: 1;}#sk-container-id-2 div.sk-label:hover label.sk-toggleable__label {background-color: #d4ebff;}#sk-container-id-2 div.sk-serial::before {content: \"\";position: absolute;border-left: 1px solid gray;box-sizing: border-box;top: 0;bottom: 0;left: 50%;z-index: 0;}#sk-container-id-2 div.sk-serial {display: flex;flex-direction: column;align-items: center;background-color: white;padding-right: 0.2em;padding-left: 0.2em;position: relative;}#sk-container-id-2 div.sk-item {position: relative;z-index: 1;}#sk-container-id-2 div.sk-parallel {display: flex;align-items: stretch;justify-content: center;background-color: white;position: relative;}#sk-container-id-2 div.sk-item::before, #sk-container-id-2 div.sk-parallel-item::before {content: \"\";position: absolute;border-left: 1px solid gray;box-sizing: border-box;top: 0;bottom: 0;left: 50%;z-index: -1;}#sk-container-id-2 div.sk-parallel-item {display: flex;flex-direction: column;z-index: 1;position: relative;background-color: white;}#sk-container-id-2 div.sk-parallel-item:first-child::after {align-self: flex-end;width: 50%;}#sk-container-id-2 div.sk-parallel-item:last-child::after {align-self: flex-start;width: 50%;}#sk-container-id-2 div.sk-parallel-item:only-child::after {width: 0;}#sk-container-id-2 div.sk-dashed-wrapped {border: 1px dashed gray;margin: 0 0.4em 0.5em 0.4em;box-sizing: border-box;padding-bottom: 0.4em;background-color: white;}#sk-container-id-2 div.sk-label label {font-family: monospace;font-weight: bold;display: inline-block;line-height: 1.2em;}#sk-container-id-2 div.sk-label-container {text-align: center;}#sk-container-id-2 div.sk-container {/* jupyter's `normalize.less` sets `[hidden] { display: none; }` but bootstrap.min.css set `[hidden] { display: none !important; }` so we also need the `!important` here to be able to override the default hidden behavior on the sphinx rendered scikit-learn.org. See: https://github.com/scikit-learn/scikit-learn/issues/21755 */display: inline-block !important;position: relative;}#sk-container-id-2 div.sk-text-repr-fallback {display: none;}</style><div id=\"sk-container-id-2\" class=\"sk-top-container\"><div class=\"sk-text-repr-fallback\"><pre>RandomForestRegressor(max_depth=12, max_features=&#x27;sqrt&#x27;)</pre><b>In a Jupyter environment, please rerun this cell to show the HTML representation or trust the notebook. <br />On GitHub, the HTML representation is unable to render, please try loading this page with nbviewer.org.</b></div><div class=\"sk-container\" hidden><div class=\"sk-item\"><div class=\"sk-estimator sk-toggleable\"><input class=\"sk-toggleable__control sk-hidden--visually\" id=\"sk-estimator-id-2\" type=\"checkbox\" checked><label for=\"sk-estimator-id-2\" class=\"sk-toggleable__label sk-toggleable__label-arrow\">RandomForestRegressor</label><div class=\"sk-toggleable__content\"><pre>RandomForestRegressor(max_depth=12, max_features=&#x27;sqrt&#x27;)</pre></div></div></div></div></div>"
      ],
      "text/plain": [
       "RandomForestRegressor(max_depth=12, max_features='sqrt')"
      ]
     },
     "execution_count": 48,
     "metadata": {},
     "output_type": "execute_result"
    }
   ],
   "source": [
    "RF = RandomForestRegressor(n_estimators=100, max_depth=12, max_features='sqrt')\n",
    "RF.fit(X_train,Y_train)"
   ]
  },
  {
   "cell_type": "code",
   "execution_count": 49,
   "metadata": {},
   "outputs": [],
   "source": [
    "Y_pred_RF = RF.predict(X_test)"
   ]
  },
  {
   "cell_type": "code",
   "execution_count": 50,
   "metadata": {},
   "outputs": [
    {
     "name": "stdout",
     "output_type": "stream",
     "text": [
      "0.5883300374590559\n",
      "756.3826187470092\n",
      "1059.2217883968165\n"
     ]
    }
   ],
   "source": [
    "print(r2_score(Y_test,Y_pred_RF))\n",
    "print(mean_absolute_error(Y_test,Y_pred_RF))\n",
    "print(np.sqrt(mean_squared_error(Y_test,Y_pred_RF)))"
   ]
  },
  {
   "cell_type": "code",
   "execution_count": 51,
   "metadata": {},
   "outputs": [
    {
     "data": {
      "text/plain": [
       "['C:\\\\Users\\\\shubham\\\\Desktop\\\\sales_prediction_model\\\\sales_prediction_project\\\\models\\\\Random_forest_regressor.sav']"
      ]
     },
     "execution_count": 51,
     "metadata": {},
     "output_type": "execute_result"
    }
   ],
   "source": [
    "joblib.dump(RF,r'C:\\Users\\shubham\\Desktop\\sales_prediction_model\\sales_prediction_project\\models\\Random_forest_regressor.sav')"
   ]
  },
  {
   "cell_type": "code",
   "execution_count": 52,
   "metadata": {},
   "outputs": [],
   "source": [
    "#Hyper Parameter Tuning\n",
    "from sklearn.model_selection import RepeatedStratifiedKFold\n",
    "from sklearn.model_selection import GridSearchCV"
   ]
  },
  {
   "cell_type": "code",
   "execution_count": 53,
   "metadata": {},
   "outputs": [
    {
     "name": "stdout",
     "output_type": "stream",
     "text": [
      "Fitting 2 folds for each of 180 candidates, totalling 360 fits\n"
     ]
    },
    {
     "data": {
      "text/html": [
       "<style>#sk-container-id-3 {color: black;}#sk-container-id-3 pre{padding: 0;}#sk-container-id-3 div.sk-toggleable {background-color: white;}#sk-container-id-3 label.sk-toggleable__label {cursor: pointer;display: block;width: 100%;margin-bottom: 0;padding: 0.3em;box-sizing: border-box;text-align: center;}#sk-container-id-3 label.sk-toggleable__label-arrow:before {content: \"▸\";float: left;margin-right: 0.25em;color: #696969;}#sk-container-id-3 label.sk-toggleable__label-arrow:hover:before {color: black;}#sk-container-id-3 div.sk-estimator:hover label.sk-toggleable__label-arrow:before {color: black;}#sk-container-id-3 div.sk-toggleable__content {max-height: 0;max-width: 0;overflow: hidden;text-align: left;background-color: #f0f8ff;}#sk-container-id-3 div.sk-toggleable__content pre {margin: 0.2em;color: black;border-radius: 0.25em;background-color: #f0f8ff;}#sk-container-id-3 input.sk-toggleable__control:checked~div.sk-toggleable__content {max-height: 200px;max-width: 100%;overflow: auto;}#sk-container-id-3 input.sk-toggleable__control:checked~label.sk-toggleable__label-arrow:before {content: \"▾\";}#sk-container-id-3 div.sk-estimator input.sk-toggleable__control:checked~label.sk-toggleable__label {background-color: #d4ebff;}#sk-container-id-3 div.sk-label input.sk-toggleable__control:checked~label.sk-toggleable__label {background-color: #d4ebff;}#sk-container-id-3 input.sk-hidden--visually {border: 0;clip: rect(1px 1px 1px 1px);clip: rect(1px, 1px, 1px, 1px);height: 1px;margin: -1px;overflow: hidden;padding: 0;position: absolute;width: 1px;}#sk-container-id-3 div.sk-estimator {font-family: monospace;background-color: #f0f8ff;border: 1px dotted black;border-radius: 0.25em;box-sizing: border-box;margin-bottom: 0.5em;}#sk-container-id-3 div.sk-estimator:hover {background-color: #d4ebff;}#sk-container-id-3 div.sk-parallel-item::after {content: \"\";width: 100%;border-bottom: 1px solid gray;flex-grow: 1;}#sk-container-id-3 div.sk-label:hover label.sk-toggleable__label {background-color: #d4ebff;}#sk-container-id-3 div.sk-serial::before {content: \"\";position: absolute;border-left: 1px solid gray;box-sizing: border-box;top: 0;bottom: 0;left: 50%;z-index: 0;}#sk-container-id-3 div.sk-serial {display: flex;flex-direction: column;align-items: center;background-color: white;padding-right: 0.2em;padding-left: 0.2em;position: relative;}#sk-container-id-3 div.sk-item {position: relative;z-index: 1;}#sk-container-id-3 div.sk-parallel {display: flex;align-items: stretch;justify-content: center;background-color: white;position: relative;}#sk-container-id-3 div.sk-item::before, #sk-container-id-3 div.sk-parallel-item::before {content: \"\";position: absolute;border-left: 1px solid gray;box-sizing: border-box;top: 0;bottom: 0;left: 50%;z-index: -1;}#sk-container-id-3 div.sk-parallel-item {display: flex;flex-direction: column;z-index: 1;position: relative;background-color: white;}#sk-container-id-3 div.sk-parallel-item:first-child::after {align-self: flex-end;width: 50%;}#sk-container-id-3 div.sk-parallel-item:last-child::after {align-self: flex-start;width: 50%;}#sk-container-id-3 div.sk-parallel-item:only-child::after {width: 0;}#sk-container-id-3 div.sk-dashed-wrapped {border: 1px dashed gray;margin: 0 0.4em 0.5em 0.4em;box-sizing: border-box;padding-bottom: 0.4em;background-color: white;}#sk-container-id-3 div.sk-label label {font-family: monospace;font-weight: bold;display: inline-block;line-height: 1.2em;}#sk-container-id-3 div.sk-label-container {text-align: center;}#sk-container-id-3 div.sk-container {/* jupyter's `normalize.less` sets `[hidden] { display: none; }` but bootstrap.min.css set `[hidden] { display: none !important; }` so we also need the `!important` here to be able to override the default hidden behavior on the sphinx rendered scikit-learn.org. See: https://github.com/scikit-learn/scikit-learn/issues/21755 */display: inline-block !important;position: relative;}#sk-container-id-3 div.sk-text-repr-fallback {display: none;}</style><div id=\"sk-container-id-3\" class=\"sk-top-container\"><div class=\"sk-text-repr-fallback\"><pre>GridSearchCV(cv=2, error_score=0, estimator=RandomForestRegressor(), n_jobs=-1,\n",
       "             param_grid={&#x27;max_depth&#x27;: range(1, 31),\n",
       "                         &#x27;max_features&#x27;: [&#x27;sqrt&#x27;, &#x27;log2&#x27;],\n",
       "                         &#x27;n_estimators&#x27;: [10, 100, 1000]},\n",
       "             scoring=&#x27;r2&#x27;, verbose=2)</pre><b>In a Jupyter environment, please rerun this cell to show the HTML representation or trust the notebook. <br />On GitHub, the HTML representation is unable to render, please try loading this page with nbviewer.org.</b></div><div class=\"sk-container\" hidden><div class=\"sk-item sk-dashed-wrapped\"><div class=\"sk-label-container\"><div class=\"sk-label sk-toggleable\"><input class=\"sk-toggleable__control sk-hidden--visually\" id=\"sk-estimator-id-3\" type=\"checkbox\" ><label for=\"sk-estimator-id-3\" class=\"sk-toggleable__label sk-toggleable__label-arrow\">GridSearchCV</label><div class=\"sk-toggleable__content\"><pre>GridSearchCV(cv=2, error_score=0, estimator=RandomForestRegressor(), n_jobs=-1,\n",
       "             param_grid={&#x27;max_depth&#x27;: range(1, 31),\n",
       "                         &#x27;max_features&#x27;: [&#x27;sqrt&#x27;, &#x27;log2&#x27;],\n",
       "                         &#x27;n_estimators&#x27;: [10, 100, 1000]},\n",
       "             scoring=&#x27;r2&#x27;, verbose=2)</pre></div></div></div><div class=\"sk-parallel\"><div class=\"sk-parallel-item\"><div class=\"sk-item\"><div class=\"sk-label-container\"><div class=\"sk-label sk-toggleable\"><input class=\"sk-toggleable__control sk-hidden--visually\" id=\"sk-estimator-id-4\" type=\"checkbox\" ><label for=\"sk-estimator-id-4\" class=\"sk-toggleable__label sk-toggleable__label-arrow\">estimator: RandomForestRegressor</label><div class=\"sk-toggleable__content\"><pre>RandomForestRegressor()</pre></div></div></div><div class=\"sk-serial\"><div class=\"sk-item\"><div class=\"sk-estimator sk-toggleable\"><input class=\"sk-toggleable__control sk-hidden--visually\" id=\"sk-estimator-id-5\" type=\"checkbox\" ><label for=\"sk-estimator-id-5\" class=\"sk-toggleable__label sk-toggleable__label-arrow\">RandomForestRegressor</label><div class=\"sk-toggleable__content\"><pre>RandomForestRegressor()</pre></div></div></div></div></div></div></div></div></div></div>"
      ],
      "text/plain": [
       "GridSearchCV(cv=2, error_score=0, estimator=RandomForestRegressor(), n_jobs=-1,\n",
       "             param_grid={'max_depth': range(1, 31),\n",
       "                         'max_features': ['sqrt', 'log2'],\n",
       "                         'n_estimators': [10, 100, 1000]},\n",
       "             scoring='r2', verbose=2)"
      ]
     },
     "execution_count": 53,
     "metadata": {},
     "output_type": "execute_result"
    }
   ],
   "source": [
    "#define model and parameters\n",
    "model = RandomForestRegressor()\n",
    "n_estimators = [10,100,1000]\n",
    "max_depth = range(1,31)\n",
    "min_samples_leaf = np.linspace(0.1,1.0)\n",
    "max_features = [\"sqrt\",\"log2\"]\n",
    "min_samples_split = np.linspace(0.1,1.0,10)\n",
    "\n",
    "#define grid search\n",
    "grid = dict(n_estimators=n_estimators, max_depth=max_depth, max_features=max_features)\n",
    "#cv = RepeatedStratifiedKFold(n_splits=5, n_repeats=3, random_state=101)\n",
    "grid_search_forest = GridSearchCV(estimator=model, param_grid=grid, n_jobs=-1, scoring='r2', error_score=0, verbose=2, cv=2)\n",
    "grid_search_forest.fit(X_train_std, Y_train)"
   ]
  },
  {
   "cell_type": "code",
   "execution_count": 54,
   "metadata": {},
   "outputs": [
    {
     "name": "stdout",
     "output_type": "stream",
     "text": [
      "Best: 0.592 using {'max_depth': 8, 'max_features': 'log2', 'n_estimators': 1000}\n",
      "0.180 (0.020) with: {'max_depth': 1, 'max_features': 'sqrt', 'n_estimators': 10}\n",
      "0.197 (0.009) with: {'max_depth': 1, 'max_features': 'sqrt', 'n_estimators': 100}\n",
      "0.183 (0.005) with: {'max_depth': 1, 'max_features': 'sqrt', 'n_estimators': 1000}\n",
      "0.175 (0.007) with: {'max_depth': 1, 'max_features': 'log2', 'n_estimators': 10}\n",
      "0.241 (0.016) with: {'max_depth': 1, 'max_features': 'log2', 'n_estimators': 100}\n",
      "0.233 (0.005) with: {'max_depth': 1, 'max_features': 'log2', 'n_estimators': 1000}\n",
      "0.364 (0.025) with: {'max_depth': 2, 'max_features': 'sqrt', 'n_estimators': 10}\n",
      "0.319 (0.011) with: {'max_depth': 2, 'max_features': 'sqrt', 'n_estimators': 100}\n",
      "0.306 (0.007) with: {'max_depth': 2, 'max_features': 'sqrt', 'n_estimators': 1000}\n",
      "0.379 (0.011) with: {'max_depth': 2, 'max_features': 'log2', 'n_estimators': 10}\n",
      "0.366 (0.013) with: {'max_depth': 2, 'max_features': 'log2', 'n_estimators': 100}\n",
      "0.378 (0.004) with: {'max_depth': 2, 'max_features': 'log2', 'n_estimators': 1000}\n",
      "0.368 (0.029) with: {'max_depth': 3, 'max_features': 'sqrt', 'n_estimators': 10}\n",
      "0.383 (0.000) with: {'max_depth': 3, 'max_features': 'sqrt', 'n_estimators': 100}\n",
      "0.402 (0.007) with: {'max_depth': 3, 'max_features': 'sqrt', 'n_estimators': 1000}\n",
      "0.466 (0.037) with: {'max_depth': 3, 'max_features': 'log2', 'n_estimators': 10}\n",
      "0.458 (0.004) with: {'max_depth': 3, 'max_features': 'log2', 'n_estimators': 100}\n",
      "0.474 (0.003) with: {'max_depth': 3, 'max_features': 'log2', 'n_estimators': 1000}\n",
      "0.461 (0.001) with: {'max_depth': 4, 'max_features': 'sqrt', 'n_estimators': 10}\n",
      "0.471 (0.001) with: {'max_depth': 4, 'max_features': 'sqrt', 'n_estimators': 100}\n",
      "0.468 (0.004) with: {'max_depth': 4, 'max_features': 'sqrt', 'n_estimators': 1000}\n",
      "0.530 (0.007) with: {'max_depth': 4, 'max_features': 'log2', 'n_estimators': 10}\n",
      "0.537 (0.008) with: {'max_depth': 4, 'max_features': 'log2', 'n_estimators': 100}\n",
      "0.530 (0.002) with: {'max_depth': 4, 'max_features': 'log2', 'n_estimators': 1000}\n",
      "0.481 (0.015) with: {'max_depth': 5, 'max_features': 'sqrt', 'n_estimators': 10}\n",
      "0.510 (0.013) with: {'max_depth': 5, 'max_features': 'sqrt', 'n_estimators': 100}\n",
      "0.517 (0.003) with: {'max_depth': 5, 'max_features': 'sqrt', 'n_estimators': 1000}\n",
      "0.564 (0.001) with: {'max_depth': 5, 'max_features': 'log2', 'n_estimators': 10}\n",
      "0.564 (0.000) with: {'max_depth': 5, 'max_features': 'log2', 'n_estimators': 100}\n",
      "0.564 (0.004) with: {'max_depth': 5, 'max_features': 'log2', 'n_estimators': 1000}\n",
      "0.539 (0.010) with: {'max_depth': 6, 'max_features': 'sqrt', 'n_estimators': 10}\n",
      "0.540 (0.000) with: {'max_depth': 6, 'max_features': 'sqrt', 'n_estimators': 100}\n",
      "0.547 (0.004) with: {'max_depth': 6, 'max_features': 'sqrt', 'n_estimators': 1000}\n",
      "0.569 (0.010) with: {'max_depth': 6, 'max_features': 'log2', 'n_estimators': 10}\n",
      "0.582 (0.004) with: {'max_depth': 6, 'max_features': 'log2', 'n_estimators': 100}\n",
      "0.583 (0.003) with: {'max_depth': 6, 'max_features': 'log2', 'n_estimators': 1000}\n",
      "0.546 (0.003) with: {'max_depth': 7, 'max_features': 'sqrt', 'n_estimators': 10}\n",
      "0.563 (0.006) with: {'max_depth': 7, 'max_features': 'sqrt', 'n_estimators': 100}\n",
      "0.565 (0.005) with: {'max_depth': 7, 'max_features': 'sqrt', 'n_estimators': 1000}\n",
      "0.579 (0.005) with: {'max_depth': 7, 'max_features': 'log2', 'n_estimators': 10}\n",
      "0.590 (0.004) with: {'max_depth': 7, 'max_features': 'log2', 'n_estimators': 100}\n",
      "0.591 (0.003) with: {'max_depth': 7, 'max_features': 'log2', 'n_estimators': 1000}\n",
      "0.548 (0.007) with: {'max_depth': 8, 'max_features': 'sqrt', 'n_estimators': 10}\n",
      "0.578 (0.004) with: {'max_depth': 8, 'max_features': 'sqrt', 'n_estimators': 100}\n",
      "0.577 (0.005) with: {'max_depth': 8, 'max_features': 'sqrt', 'n_estimators': 1000}\n",
      "0.581 (0.001) with: {'max_depth': 8, 'max_features': 'log2', 'n_estimators': 10}\n",
      "0.591 (0.001) with: {'max_depth': 8, 'max_features': 'log2', 'n_estimators': 100}\n",
      "0.592 (0.003) with: {'max_depth': 8, 'max_features': 'log2', 'n_estimators': 1000}\n",
      "0.566 (0.007) with: {'max_depth': 9, 'max_features': 'sqrt', 'n_estimators': 10}\n",
      "0.581 (0.003) with: {'max_depth': 9, 'max_features': 'sqrt', 'n_estimators': 100}\n",
      "0.582 (0.004) with: {'max_depth': 9, 'max_features': 'sqrt', 'n_estimators': 1000}\n",
      "0.573 (0.000) with: {'max_depth': 9, 'max_features': 'log2', 'n_estimators': 10}\n",
      "0.590 (0.002) with: {'max_depth': 9, 'max_features': 'log2', 'n_estimators': 100}\n",
      "0.592 (0.002) with: {'max_depth': 9, 'max_features': 'log2', 'n_estimators': 1000}\n",
      "0.559 (0.001) with: {'max_depth': 10, 'max_features': 'sqrt', 'n_estimators': 10}\n",
      "0.583 (0.003) with: {'max_depth': 10, 'max_features': 'sqrt', 'n_estimators': 100}\n",
      "0.585 (0.004) with: {'max_depth': 10, 'max_features': 'sqrt', 'n_estimators': 1000}\n",
      "0.565 (0.001) with: {'max_depth': 10, 'max_features': 'log2', 'n_estimators': 10}\n",
      "0.588 (0.002) with: {'max_depth': 10, 'max_features': 'log2', 'n_estimators': 100}\n",
      "0.589 (0.001) with: {'max_depth': 10, 'max_features': 'log2', 'n_estimators': 1000}\n",
      "0.561 (0.005) with: {'max_depth': 11, 'max_features': 'sqrt', 'n_estimators': 10}\n",
      "0.585 (0.005) with: {'max_depth': 11, 'max_features': 'sqrt', 'n_estimators': 100}\n",
      "0.585 (0.003) with: {'max_depth': 11, 'max_features': 'sqrt', 'n_estimators': 1000}\n",
      "0.564 (0.003) with: {'max_depth': 11, 'max_features': 'log2', 'n_estimators': 10}\n",
      "0.584 (0.001) with: {'max_depth': 11, 'max_features': 'log2', 'n_estimators': 100}\n",
      "0.586 (0.001) with: {'max_depth': 11, 'max_features': 'log2', 'n_estimators': 1000}\n",
      "0.551 (0.003) with: {'max_depth': 12, 'max_features': 'sqrt', 'n_estimators': 10}\n",
      "0.582 (0.002) with: {'max_depth': 12, 'max_features': 'sqrt', 'n_estimators': 100}\n",
      "0.584 (0.001) with: {'max_depth': 12, 'max_features': 'sqrt', 'n_estimators': 1000}\n",
      "0.555 (0.000) with: {'max_depth': 12, 'max_features': 'log2', 'n_estimators': 10}\n",
      "0.580 (0.000) with: {'max_depth': 12, 'max_features': 'log2', 'n_estimators': 100}\n",
      "0.582 (0.000) with: {'max_depth': 12, 'max_features': 'log2', 'n_estimators': 1000}\n",
      "0.552 (0.008) with: {'max_depth': 13, 'max_features': 'sqrt', 'n_estimators': 10}\n",
      "0.577 (0.001) with: {'max_depth': 13, 'max_features': 'sqrt', 'n_estimators': 100}\n",
      "0.581 (0.001) with: {'max_depth': 13, 'max_features': 'sqrt', 'n_estimators': 1000}\n",
      "0.554 (0.011) with: {'max_depth': 13, 'max_features': 'log2', 'n_estimators': 10}\n",
      "0.575 (0.001) with: {'max_depth': 13, 'max_features': 'log2', 'n_estimators': 100}\n",
      "0.579 (0.001) with: {'max_depth': 13, 'max_features': 'log2', 'n_estimators': 1000}\n",
      "0.554 (0.004) with: {'max_depth': 14, 'max_features': 'sqrt', 'n_estimators': 10}\n",
      "0.575 (0.001) with: {'max_depth': 14, 'max_features': 'sqrt', 'n_estimators': 100}\n",
      "0.579 (0.000) with: {'max_depth': 14, 'max_features': 'sqrt', 'n_estimators': 1000}\n",
      "0.556 (0.004) with: {'max_depth': 14, 'max_features': 'log2', 'n_estimators': 10}\n",
      "0.572 (0.000) with: {'max_depth': 14, 'max_features': 'log2', 'n_estimators': 100}\n",
      "0.576 (0.001) with: {'max_depth': 14, 'max_features': 'log2', 'n_estimators': 1000}\n",
      "0.542 (0.007) with: {'max_depth': 15, 'max_features': 'sqrt', 'n_estimators': 10}\n",
      "0.576 (0.000) with: {'max_depth': 15, 'max_features': 'sqrt', 'n_estimators': 100}\n",
      "0.577 (0.000) with: {'max_depth': 15, 'max_features': 'sqrt', 'n_estimators': 1000}\n",
      "0.540 (0.008) with: {'max_depth': 15, 'max_features': 'log2', 'n_estimators': 10}\n",
      "0.569 (0.003) with: {'max_depth': 15, 'max_features': 'log2', 'n_estimators': 100}\n",
      "0.573 (0.002) with: {'max_depth': 15, 'max_features': 'log2', 'n_estimators': 1000}\n",
      "0.537 (0.010) with: {'max_depth': 16, 'max_features': 'sqrt', 'n_estimators': 10}\n",
      "0.570 (0.000) with: {'max_depth': 16, 'max_features': 'sqrt', 'n_estimators': 100}\n",
      "0.574 (0.001) with: {'max_depth': 16, 'max_features': 'sqrt', 'n_estimators': 1000}\n",
      "0.541 (0.003) with: {'max_depth': 16, 'max_features': 'log2', 'n_estimators': 10}\n",
      "0.567 (0.000) with: {'max_depth': 16, 'max_features': 'log2', 'n_estimators': 100}\n",
      "0.571 (0.002) with: {'max_depth': 16, 'max_features': 'log2', 'n_estimators': 1000}\n",
      "0.545 (0.004) with: {'max_depth': 17, 'max_features': 'sqrt', 'n_estimators': 10}\n",
      "0.570 (0.001) with: {'max_depth': 17, 'max_features': 'sqrt', 'n_estimators': 100}\n",
      "0.573 (0.001) with: {'max_depth': 17, 'max_features': 'sqrt', 'n_estimators': 1000}\n",
      "0.538 (0.004) with: {'max_depth': 17, 'max_features': 'log2', 'n_estimators': 10}\n",
      "0.566 (0.001) with: {'max_depth': 17, 'max_features': 'log2', 'n_estimators': 100}\n",
      "0.569 (0.003) with: {'max_depth': 17, 'max_features': 'log2', 'n_estimators': 1000}\n",
      "0.526 (0.001) with: {'max_depth': 18, 'max_features': 'sqrt', 'n_estimators': 10}\n",
      "0.570 (0.002) with: {'max_depth': 18, 'max_features': 'sqrt', 'n_estimators': 100}\n",
      "0.573 (0.000) with: {'max_depth': 18, 'max_features': 'sqrt', 'n_estimators': 1000}\n",
      "0.522 (0.008) with: {'max_depth': 18, 'max_features': 'log2', 'n_estimators': 10}\n",
      "0.564 (0.001) with: {'max_depth': 18, 'max_features': 'log2', 'n_estimators': 100}\n",
      "0.568 (0.002) with: {'max_depth': 18, 'max_features': 'log2', 'n_estimators': 1000}\n",
      "0.523 (0.005) with: {'max_depth': 19, 'max_features': 'sqrt', 'n_estimators': 10}\n",
      "0.567 (0.003) with: {'max_depth': 19, 'max_features': 'sqrt', 'n_estimators': 100}\n",
      "0.571 (0.001) with: {'max_depth': 19, 'max_features': 'sqrt', 'n_estimators': 1000}\n",
      "0.521 (0.004) with: {'max_depth': 19, 'max_features': 'log2', 'n_estimators': 10}\n",
      "0.564 (0.003) with: {'max_depth': 19, 'max_features': 'log2', 'n_estimators': 100}\n",
      "0.567 (0.002) with: {'max_depth': 19, 'max_features': 'log2', 'n_estimators': 1000}\n",
      "0.523 (0.005) with: {'max_depth': 20, 'max_features': 'sqrt', 'n_estimators': 10}\n",
      "0.568 (0.002) with: {'max_depth': 20, 'max_features': 'sqrt', 'n_estimators': 100}\n",
      "0.571 (0.002) with: {'max_depth': 20, 'max_features': 'sqrt', 'n_estimators': 1000}\n",
      "0.533 (0.008) with: {'max_depth': 20, 'max_features': 'log2', 'n_estimators': 10}\n",
      "0.563 (0.002) with: {'max_depth': 20, 'max_features': 'log2', 'n_estimators': 100}\n",
      "0.567 (0.003) with: {'max_depth': 20, 'max_features': 'log2', 'n_estimators': 1000}\n",
      "0.532 (0.005) with: {'max_depth': 21, 'max_features': 'sqrt', 'n_estimators': 10}\n",
      "0.563 (0.002) with: {'max_depth': 21, 'max_features': 'sqrt', 'n_estimators': 100}\n",
      "0.570 (0.001) with: {'max_depth': 21, 'max_features': 'sqrt', 'n_estimators': 1000}\n",
      "0.529 (0.012) with: {'max_depth': 21, 'max_features': 'log2', 'n_estimators': 10}\n",
      "0.562 (0.002) with: {'max_depth': 21, 'max_features': 'log2', 'n_estimators': 100}\n",
      "0.567 (0.002) with: {'max_depth': 21, 'max_features': 'log2', 'n_estimators': 1000}\n",
      "0.530 (0.011) with: {'max_depth': 22, 'max_features': 'sqrt', 'n_estimators': 10}\n",
      "0.566 (0.001) with: {'max_depth': 22, 'max_features': 'sqrt', 'n_estimators': 100}\n",
      "0.570 (0.001) with: {'max_depth': 22, 'max_features': 'sqrt', 'n_estimators': 1000}\n",
      "0.521 (0.006) with: {'max_depth': 22, 'max_features': 'log2', 'n_estimators': 10}\n",
      "0.564 (0.001) with: {'max_depth': 22, 'max_features': 'log2', 'n_estimators': 100}\n",
      "0.566 (0.003) with: {'max_depth': 22, 'max_features': 'log2', 'n_estimators': 1000}\n",
      "0.522 (0.003) with: {'max_depth': 23, 'max_features': 'sqrt', 'n_estimators': 10}\n",
      "0.567 (0.003) with: {'max_depth': 23, 'max_features': 'sqrt', 'n_estimators': 100}\n",
      "0.570 (0.001) with: {'max_depth': 23, 'max_features': 'sqrt', 'n_estimators': 1000}\n",
      "0.524 (0.005) with: {'max_depth': 23, 'max_features': 'log2', 'n_estimators': 10}\n",
      "0.564 (0.001) with: {'max_depth': 23, 'max_features': 'log2', 'n_estimators': 100}\n",
      "0.567 (0.003) with: {'max_depth': 23, 'max_features': 'log2', 'n_estimators': 1000}\n",
      "0.532 (0.001) with: {'max_depth': 24, 'max_features': 'sqrt', 'n_estimators': 10}\n",
      "0.568 (0.001) with: {'max_depth': 24, 'max_features': 'sqrt', 'n_estimators': 100}\n",
      "0.570 (0.001) with: {'max_depth': 24, 'max_features': 'sqrt', 'n_estimators': 1000}\n",
      "0.524 (0.004) with: {'max_depth': 24, 'max_features': 'log2', 'n_estimators': 10}\n",
      "0.565 (0.003) with: {'max_depth': 24, 'max_features': 'log2', 'n_estimators': 100}\n",
      "0.566 (0.002) with: {'max_depth': 24, 'max_features': 'log2', 'n_estimators': 1000}\n",
      "0.532 (0.007) with: {'max_depth': 25, 'max_features': 'sqrt', 'n_estimators': 10}\n",
      "0.566 (0.000) with: {'max_depth': 25, 'max_features': 'sqrt', 'n_estimators': 100}\n",
      "0.569 (0.001) with: {'max_depth': 25, 'max_features': 'sqrt', 'n_estimators': 1000}\n",
      "0.527 (0.003) with: {'max_depth': 25, 'max_features': 'log2', 'n_estimators': 10}\n",
      "0.564 (0.003) with: {'max_depth': 25, 'max_features': 'log2', 'n_estimators': 100}\n",
      "0.566 (0.002) with: {'max_depth': 25, 'max_features': 'log2', 'n_estimators': 1000}\n",
      "0.531 (0.003) with: {'max_depth': 26, 'max_features': 'sqrt', 'n_estimators': 10}\n",
      "0.565 (0.002) with: {'max_depth': 26, 'max_features': 'sqrt', 'n_estimators': 100}\n",
      "0.569 (0.000) with: {'max_depth': 26, 'max_features': 'sqrt', 'n_estimators': 1000}\n",
      "0.535 (0.010) with: {'max_depth': 26, 'max_features': 'log2', 'n_estimators': 10}\n",
      "0.562 (0.004) with: {'max_depth': 26, 'max_features': 'log2', 'n_estimators': 100}\n",
      "0.567 (0.002) with: {'max_depth': 26, 'max_features': 'log2', 'n_estimators': 1000}\n",
      "0.534 (0.000) with: {'max_depth': 27, 'max_features': 'sqrt', 'n_estimators': 10}\n",
      "0.566 (0.001) with: {'max_depth': 27, 'max_features': 'sqrt', 'n_estimators': 100}\n",
      "0.571 (0.001) with: {'max_depth': 27, 'max_features': 'sqrt', 'n_estimators': 1000}\n",
      "0.523 (0.001) with: {'max_depth': 27, 'max_features': 'log2', 'n_estimators': 10}\n",
      "0.564 (0.003) with: {'max_depth': 27, 'max_features': 'log2', 'n_estimators': 100}\n",
      "0.565 (0.003) with: {'max_depth': 27, 'max_features': 'log2', 'n_estimators': 1000}\n",
      "0.531 (0.001) with: {'max_depth': 28, 'max_features': 'sqrt', 'n_estimators': 10}\n",
      "0.565 (0.002) with: {'max_depth': 28, 'max_features': 'sqrt', 'n_estimators': 100}\n",
      "0.570 (0.001) with: {'max_depth': 28, 'max_features': 'sqrt', 'n_estimators': 1000}\n",
      "0.527 (0.002) with: {'max_depth': 28, 'max_features': 'log2', 'n_estimators': 10}\n",
      "0.565 (0.003) with: {'max_depth': 28, 'max_features': 'log2', 'n_estimators': 100}\n",
      "0.566 (0.002) with: {'max_depth': 28, 'max_features': 'log2', 'n_estimators': 1000}\n",
      "0.528 (0.015) with: {'max_depth': 29, 'max_features': 'sqrt', 'n_estimators': 10}\n",
      "0.565 (0.002) with: {'max_depth': 29, 'max_features': 'sqrt', 'n_estimators': 100}\n",
      "0.570 (0.002) with: {'max_depth': 29, 'max_features': 'sqrt', 'n_estimators': 1000}\n",
      "0.529 (0.004) with: {'max_depth': 29, 'max_features': 'log2', 'n_estimators': 10}\n",
      "0.564 (0.001) with: {'max_depth': 29, 'max_features': 'log2', 'n_estimators': 100}\n",
      "0.566 (0.002) with: {'max_depth': 29, 'max_features': 'log2', 'n_estimators': 1000}\n",
      "0.525 (0.006) with: {'max_depth': 30, 'max_features': 'sqrt', 'n_estimators': 10}\n",
      "0.564 (0.001) with: {'max_depth': 30, 'max_features': 'sqrt', 'n_estimators': 100}\n",
      "0.570 (0.000) with: {'max_depth': 30, 'max_features': 'sqrt', 'n_estimators': 1000}\n",
      "0.532 (0.003) with: {'max_depth': 30, 'max_features': 'log2', 'n_estimators': 10}\n",
      "0.564 (0.003) with: {'max_depth': 30, 'max_features': 'log2', 'n_estimators': 100}\n",
      "0.566 (0.002) with: {'max_depth': 30, 'max_features': 'log2', 'n_estimators': 1000}\n"
     ]
    }
   ],
   "source": [
    "print(f\"Best: {grid_search_forest.best_score_:.3f} using {grid_search_forest.best_params_}\")\n",
    "means = grid_search_forest.cv_results_['mean_test_score']\n",
    "stds = grid_search_forest.cv_results_['std_test_score']\n",
    "params = grid_search_forest.cv_results_['params']\n",
    "\n",
    "for mean, stdev, param in zip(means, stds, params):\n",
    "    print(f\"{mean:.3f} ({stdev:.3f}) with: {param}\")"
   ]
  },
  {
   "cell_type": "code",
   "execution_count": 55,
   "metadata": {},
   "outputs": [
    {
     "data": {
      "text/plain": [
       "{'max_depth': 8, 'max_features': 'log2', 'n_estimators': 1000}"
      ]
     },
     "execution_count": 55,
     "metadata": {},
     "output_type": "execute_result"
    }
   ],
   "source": [
    "grid_search_forest.best_params_"
   ]
  },
  {
   "cell_type": "code",
   "execution_count": 56,
   "metadata": {},
   "outputs": [
    {
     "data": {
      "text/plain": [
       "0.5921842064388674"
      ]
     },
     "execution_count": 56,
     "metadata": {},
     "output_type": "execute_result"
    }
   ],
   "source": [
    "grid_search_forest.best_score_"
   ]
  },
  {
   "cell_type": "code",
   "execution_count": 57,
   "metadata": {},
   "outputs": [
    {
     "data": {
      "text/plain": [
       "0.5938811642615862"
      ]
     },
     "execution_count": 57,
     "metadata": {},
     "output_type": "execute_result"
    }
   ],
   "source": [
    "Y_pred_RF_grid = grid_search_forest.predict(X_test_std)\n",
    "r2_score(Y_test,Y_pred_RF_grid)"
   ]
  },
  {
   "cell_type": "code",
   "execution_count": 58,
   "metadata": {},
   "outputs": [],
   "source": [
    "#save your model\n",
    "import joblib"
   ]
  },
  {
   "cell_type": "code",
   "execution_count": 59,
   "metadata": {},
   "outputs": [
    {
     "data": {
      "text/plain": [
       "['C:\\\\Users\\\\shubham\\\\Desktop\\\\sales_prediction_model\\\\sales_prediction_project\\\\models\\\\Random_forest_grid.sav']"
      ]
     },
     "execution_count": 59,
     "metadata": {},
     "output_type": "execute_result"
    }
   ],
   "source": [
    "joblib.dump(grid_search_forest, r'C:\\Users\\shubham\\Desktop\\sales_prediction_model\\sales_prediction_project\\models\\Random_forest_grid.sav')"
   ]
  },
  {
   "cell_type": "code",
   "execution_count": 60,
   "metadata": {},
   "outputs": [
    {
     "data": {
      "text/plain": [
       "array([1546.4545059 , 2701.80517786, 1359.7068069 , ...,  572.95499683,\n",
       "       1692.9410174 , 2581.29224425])"
      ]
     },
     "execution_count": 60,
     "metadata": {},
     "output_type": "execute_result"
    },
    {
     "name": "stderr",
     "output_type": "stream",
     "text": [
      "2023-08-16 23:51:20,924 - INFO     - Executing shutdown due to inactivity...\n",
      "2023-08-16 23:51:33,352 - INFO     - Executing shutdown...\n",
      "2023-08-16 23:51:33,362 - ERROR    - Exception on /shutdown [GET]\n",
      "Traceback (most recent call last):\n",
      "  File \"C:\\Users\\shubham\\AppData\\Roaming\\Python\\Python39\\site-packages\\flask\\app.py\", line 2529, in wsgi_app\n",
      "    response = self.full_dispatch_request()\n",
      "  File \"C:\\Users\\shubham\\AppData\\Roaming\\Python\\Python39\\site-packages\\flask\\app.py\", line 1825, in full_dispatch_request\n",
      "    rv = self.handle_user_exception(e)\n",
      "  File \"C:\\Users\\shubham\\AppData\\Roaming\\Python\\Python39\\site-packages\\flask\\app.py\", line 1823, in full_dispatch_request\n",
      "    rv = self.dispatch_request()\n",
      "  File \"C:\\Users\\shubham\\AppData\\Roaming\\Python\\Python39\\site-packages\\flask\\app.py\", line 1799, in dispatch_request\n",
      "    return self.ensure_sync(self.view_functions[rule.endpoint])(**view_args)\n",
      "  File \"C:\\Users\\shubham\\AppData\\Roaming\\Python\\Python39\\site-packages\\dtale\\app.py\", line 440, in shutdown\n",
      "    shutdown_server()\n",
      "  File \"C:\\Users\\shubham\\AppData\\Roaming\\Python\\Python39\\site-packages\\dtale\\app.py\", line 426, in shutdown_server\n",
      "    raise RuntimeError(\"Not running with the Werkzeug Server\")\n",
      "RuntimeError: Not running with the Werkzeug Server\n"
     ]
    }
   ],
   "source": [
    "#loading the model\n",
    "model = joblib.load(r'C:\\Users\\shubham\\Desktop\\sales_prediction_model\\sales_prediction_project\\models\\Random_forest_grid.sav')\n",
    "model.predict(X_test_std)"
   ]
  },
  {
   "cell_type": "code",
   "execution_count": null,
   "metadata": {},
   "outputs": [],
   "source": []
  }
 ],
 "metadata": {
  "kernelspec": {
   "display_name": "Python 3",
   "language": "python",
   "name": "python3"
  },
  "language_info": {
   "codemirror_mode": {
    "name": "ipython",
    "version": 3
   },
   "file_extension": ".py",
   "mimetype": "text/x-python",
   "name": "python",
   "nbconvert_exporter": "python",
   "pygments_lexer": "ipython3",
   "version": "3.9.13"
  },
  "orig_nbformat": 4
 },
 "nbformat": 4,
 "nbformat_minor": 2
}
